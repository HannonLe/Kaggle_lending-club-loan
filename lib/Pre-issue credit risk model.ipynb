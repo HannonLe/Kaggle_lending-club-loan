{
 "cells": [
  {
   "cell_type": "markdown",
   "metadata": {},
   "source": [
    "# Lending Club Loan pre-issue credit risk model"
   ]
  },
  {
   "cell_type": "markdown",
   "metadata": {},
   "source": [
    "## Update log\n",
    "\n",
    "* __20170328__: Initial script\n",
    "* __20170608__: Updated the code under pandas 0.20.2 version\n",
    "* __20170611__: Rebuilt core model for pre-issue variables"
   ]
  },
  {
   "cell_type": "markdown",
   "metadata": {},
   "source": [
    "## Scope of modeling\n",
    "\n",
    "This script is used to build the pre-issue credit risk model.\n",
    "\n",
    "1. We focus on __closed deals__ only and try to classify between __default__ loans and __non-default__ loans. Current ongoing loans and fresh issued loan is not included in the scope of modeling.\n",
    "2. Since this is a __pre-issue credit risk model__ instead of a model for __real-time default detection__, only __variables collected prior to the issue day of the loan__ will be included as predictor variables (like loan information, current credit history). We do not include variables that are collected real-time throughout the loan period (like last payment day)."
   ]
  },
  {
   "cell_type": "code",
   "execution_count": 283,
   "metadata": {},
   "outputs": [],
   "source": [
    "import random\n",
    "import time\n",
    "\n",
    "import pandas as pd\n",
    "import numpy as np\n",
    "\n",
    "import matplotlib.pyplot as plt\n",
    "import seaborn as sns\n",
    "%matplotlib inline\n",
    "\n",
    "from sklearn.preprocessing import scale\n",
    "from sklearn.decomposition import PCA\n",
    "from sklearn.linear_model import LogisticRegression\n",
    "import statsmodels.api as sm\n",
    "from sklearn.ensemble import RandomForestClassifier\n",
    "from sklearn.ensemble import GradientBoostingClassifier\n",
    "from sklearn.model_selection import GridSearchCV\n",
    "from sklearn.metrics import roc_curve, auc, make_scorer, confusion_matrix, f1_score\n",
    "from sklearn.model_selection import train_test_split"
   ]
  },
  {
   "cell_type": "markdown",
   "metadata": {},
   "source": [
    "## Load Data from csv"
   ]
  },
  {
   "cell_type": "code",
   "execution_count": 2,
   "metadata": {},
   "outputs": [
    {
     "name": "stdout",
     "output_type": "stream",
     "text": [
      "(887379, 74)\n"
     ]
    }
   ],
   "source": [
    "# read csv (441.8 MB)\n",
    "loan = pd.read_csv(\"../data/loan.csv\", low_memory=False)\n",
    "loan_copy = loan.copy()\n",
    "# check dimension\n",
    "print loan.shape"
   ]
  },
  {
   "cell_type": "code",
   "execution_count": 67,
   "metadata": {
    "collapsed": true
   },
   "outputs": [],
   "source": [
    "# reset loan variable\n",
    "loan = loan_copy.copy()"
   ]
  },
  {
   "cell_type": "markdown",
   "metadata": {},
   "source": [
    "## Set up response variable"
   ]
  },
  {
   "cell_type": "code",
   "execution_count": 68,
   "metadata": {},
   "outputs": [
    {
     "data": {
      "text/plain": [
       "Current                                                601779\n",
       "Fully Paid                                             207723\n",
       "Charged Off                                             45248\n",
       "Late (31-120 days)                                      11591\n",
       "Issued                                                   8460\n",
       "In Grace Period                                          6253\n",
       "Late (16-30 days)                                        2357\n",
       "Does not meet the credit policy. Status:Fully Paid       1988\n",
       "Default                                                  1219\n",
       "Does not meet the credit policy. Status:Charged Off       761\n",
       "Name: loan_status, dtype: int64"
      ]
     },
     "execution_count": 68,
     "metadata": {},
     "output_type": "execute_result"
    }
   ],
   "source": [
    "# all categories of loan_status\n",
    "loan['loan_status'].value_counts()"
   ]
  },
  {
   "cell_type": "markdown",
   "metadata": {},
   "source": [
    "Loans with status \"Current\" represent loans that haven't been closed till Jan-2016 (the latest payment month in our data). For this analysis, we focus on closed deals only and try to classify between default and non-default.\n",
    "\n",
    "The loan_status of closed deals are:\n",
    "\n",
    "* __Fully Paid__ (non-default)\n",
    "* __Charged Off__ (default)\n",
    "* __Default__ (defualt)"
   ]
  },
  {
   "cell_type": "code",
   "execution_count": 69,
   "metadata": {
    "collapsed": true
   },
   "outputs": [],
   "source": [
    "# filter response categories\n",
    "loan = loan[loan['loan_status'].isin(['Fully Paid','Charged Off','Default'])]\n",
    "# set up binary response variable\n",
    "default = loan['loan_status'].map({\"Fully Paid\": 0.0,\"Charged Off\": 1.0,\"Default\": 1.0})\n",
    "loan['default'] = default\n",
    "# delete loan_status from data frame\n",
    "# loan.drop('loan_status', axis=1, inplace=True)"
   ]
  },
  {
   "cell_type": "code",
   "execution_count": 70,
   "metadata": {},
   "outputs": [
    {
     "name": "stdout",
     "output_type": "stream",
     "text": [
      "(254190, 75)\n",
      "(254190,)\n"
     ]
    }
   ],
   "source": [
    "# check dimension\n",
    "print loan.shape\n",
    "print default.shape"
   ]
  },
  {
   "cell_type": "markdown",
   "metadata": {},
   "source": [
    "## Set up predictor variables"
   ]
  },
  {
   "cell_type": "code",
   "execution_count": 71,
   "metadata": {},
   "outputs": [
    {
     "data": {
      "text/plain": [
       "Index([u'acc_now_delinq', u'addr_state', u'all_util', u'annual_inc',\n",
       "       u'annual_inc_joint', u'application_type', u'collection_recovery_fee',\n",
       "       u'collections_12_mths_ex_med', u'default', u'delinq_2yrs', u'desc',\n",
       "       u'dti', u'dti_joint', u'earliest_cr_line', u'emp_length', u'emp_title',\n",
       "       u'funded_amnt', u'funded_amnt_inv', u'grade', u'home_ownership', u'id',\n",
       "       u'il_util', u'initial_list_status', u'inq_fi', u'inq_last_12m',\n",
       "       u'inq_last_6mths', u'installment', u'int_rate', u'issue_d',\n",
       "       u'last_credit_pull_d', u'last_pymnt_amnt', u'last_pymnt_d',\n",
       "       u'loan_amnt', u'loan_status', u'max_bal_bc', u'member_id',\n",
       "       u'mths_since_last_delinq', u'mths_since_last_major_derog',\n",
       "       u'mths_since_last_record', u'mths_since_rcnt_il', u'next_pymnt_d',\n",
       "       u'open_acc', u'open_acc_6m', u'open_il_12m', u'open_il_24m',\n",
       "       u'open_il_6m', u'open_rv_12m', u'open_rv_24m', u'out_prncp',\n",
       "       u'out_prncp_inv', u'policy_code', u'pub_rec', u'purpose', u'pymnt_plan',\n",
       "       u'recoveries', u'revol_bal', u'revol_util', u'sub_grade', u'term',\n",
       "       u'title', u'tot_coll_amt', u'tot_cur_bal', u'total_acc',\n",
       "       u'total_bal_il', u'total_cu_tl', u'total_pymnt', u'total_pymnt_inv',\n",
       "       u'total_rec_int', u'total_rec_late_fee', u'total_rec_prncp',\n",
       "       u'total_rev_hi_lim', u'url', u'verification_status',\n",
       "       u'verification_status_joint', u'zip_code'],\n",
       "      dtype='object')"
      ]
     },
     "execution_count": 71,
     "metadata": {},
     "output_type": "execute_result"
    }
   ],
   "source": [
    "# check column names\n",
    "loan.columns.sort_values()"
   ]
  },
  {
   "attachments": {},
   "cell_type": "markdown",
   "metadata": {},
   "source": [
    "### 1. Keep pre-issue variables only\n",
    "\n",
    "Pre-issue variables are variables representing basic loan information, borrower's demographic, income, credit history and other information collected when applying for loan. They are:\n",
    "\n",
    "* addr_state\n",
    "* annual_inc\n",
    "* annual_inc_joint\n",
    "* application_type\n",
    "* desc\n",
    "* earliest_cr_line\n",
    "* emp_length\n",
    "* emp_title\n",
    "* grade\n",
    "* home_ownership\n",
    "* id\n",
    "* initialListStatus\n",
    "* installment\n",
    "* int_rate\n",
    "* issue_d\n",
    "* loan_amnt\n",
    "* member_id\n",
    "* policy_code\n",
    "* purpose\n",
    "* pymnt_plan\n",
    "* sub_grade\n",
    "* term\n",
    "* title\n",
    "* url\n",
    "* verified_status_joint\n",
    "* zip_code"
   ]
  },
  {
   "cell_type": "code",
   "execution_count": 72,
   "metadata": {},
   "outputs": [
    {
     "data": {
      "text/plain": [
       "(254190, 27)"
      ]
     },
     "execution_count": 72,
     "metadata": {},
     "output_type": "execute_result"
    }
   ],
   "source": [
    "# keep pre-issue variables\n",
    "loan = loan[['addr_state','annual_inc','annual_inc_joint','application_type','desc','earliest_cr_line',\n",
    "             'emp_length','emp_title','grade','home_ownership','id','initial_list_status','installment',\n",
    "             'int_rate','issue_d','loan_amnt','member_id','policy_code','purpose','pymnt_plan',\n",
    "             'sub_grade','term','title','url','verification_status','zip_code','default']]\n",
    "loan.shape"
   ]
  },
  {
   "cell_type": "markdown",
   "metadata": {},
   "source": [
    "### 2. Drop irrelevant variables."
   ]
  },
  {
   "cell_type": "code",
   "execution_count": 73,
   "metadata": {},
   "outputs": [
    {
     "data": {
      "text/plain": [
       "(254190, 21)"
      ]
     },
     "execution_count": 73,
     "metadata": {},
     "output_type": "execute_result"
    }
   ],
   "source": [
    "# drop irrelavent variables\n",
    "loan.drop(['id','member_id', 'desc', 'title', 'url', 'zip_code'], axis=1, inplace=True)\n",
    "# check dimension\n",
    "loan.shape"
   ]
  },
  {
   "cell_type": "markdown",
   "metadata": {
    "collapsed": true
   },
   "source": [
    "### 3. Check missing values"
   ]
  },
  {
   "cell_type": "code",
   "execution_count": 74,
   "metadata": {
    "collapsed": true,
    "scrolled": false
   },
   "outputs": [],
   "source": [
    "# NA count table\n",
    "NAs = pd.concat([loan.isnull().sum(), np.round(loan.isnull().sum()/len(loan), 3)], axis=1, keys=['missing counts','missing percentage'])"
   ]
  },
  {
   "cell_type": "code",
   "execution_count": 75,
   "metadata": {
    "scrolled": false
   },
   "outputs": [
    {
     "data": {
      "text/html": [
       "<div>\n",
       "<style>\n",
       "    .dataframe thead tr:only-child th {\n",
       "        text-align: right;\n",
       "    }\n",
       "\n",
       "    .dataframe thead th {\n",
       "        text-align: left;\n",
       "    }\n",
       "\n",
       "    .dataframe tbody tr th {\n",
       "        vertical-align: top;\n",
       "    }\n",
       "</style>\n",
       "<table border=\"1\" class=\"dataframe\">\n",
       "  <thead>\n",
       "    <tr style=\"text-align: right;\">\n",
       "      <th></th>\n",
       "      <th>missing counts</th>\n",
       "      <th>missing percentage</th>\n",
       "    </tr>\n",
       "  </thead>\n",
       "  <tbody>\n",
       "    <tr>\n",
       "      <th>emp_title</th>\n",
       "      <td>14007</td>\n",
       "      <td>0.055</td>\n",
       "    </tr>\n",
       "    <tr>\n",
       "      <th>annual_inc_joint</th>\n",
       "      <td>254189</td>\n",
       "      <td>1.000</td>\n",
       "    </tr>\n",
       "  </tbody>\n",
       "</table>\n",
       "</div>"
      ],
      "text/plain": [
       "                  missing counts  missing percentage\n",
       "emp_title                  14007               0.055\n",
       "annual_inc_joint          254189               1.000"
      ]
     },
     "execution_count": 75,
     "metadata": {},
     "output_type": "execute_result"
    }
   ],
   "source": [
    "# print all variables that have NAs\n",
    "NAs[NAs['missing percentage'] > 0.].sort_values('missing percentage')"
   ]
  },
  {
   "cell_type": "code",
   "execution_count": 76,
   "metadata": {
    "collapsed": true
   },
   "outputs": [],
   "source": [
    "# drop annual_inc_joint\n",
    "loan.drop('annual_inc_joint', axis=1, inplace=True)"
   ]
  },
  {
   "cell_type": "markdown",
   "metadata": {},
   "source": [
    "### 4. Exploration and Feature engineering\n",
    "\n",
    "1. generate new variable using existing variables\n",
    "2. drop redundant variables\n",
    "3. change variable to proper data type"
   ]
  },
  {
   "cell_type": "code",
   "execution_count": 77,
   "metadata": {
    "scrolled": true
   },
   "outputs": [
    {
     "data": {
      "text/plain": [
       "Index([u'addr_state', u'annual_inc', u'application_type', u'earliest_cr_line',\n",
       "       u'emp_length', u'emp_title', u'grade', u'home_ownership',\n",
       "       u'initial_list_status', u'installment', u'int_rate', u'issue_d',\n",
       "       u'loan_amnt', u'policy_code', u'purpose', u'pymnt_plan', u'sub_grade',\n",
       "       u'term', u'verification_status', u'default'],\n",
       "      dtype='object')"
      ]
     },
     "execution_count": 77,
     "metadata": {},
     "output_type": "execute_result"
    }
   ],
   "source": [
    "loan.columns"
   ]
  },
  {
   "cell_type": "markdown",
   "metadata": {},
   "source": [
    "top 5 highest default rate by __addr_state__ (address state)"
   ]
  },
  {
   "cell_type": "code",
   "execution_count": 79,
   "metadata": {
    "scrolled": false
   },
   "outputs": [
    {
     "data": {
      "text/html": [
       "<div>\n",
       "<style>\n",
       "    .dataframe thead tr:only-child th {\n",
       "        text-align: right;\n",
       "    }\n",
       "\n",
       "    .dataframe thead th {\n",
       "        text-align: left;\n",
       "    }\n",
       "\n",
       "    .dataframe tbody tr th {\n",
       "        vertical-align: top;\n",
       "    }\n",
       "</style>\n",
       "<table border=\"1\" class=\"dataframe\">\n",
       "  <thead>\n",
       "    <tr style=\"text-align: right;\">\n",
       "      <th></th>\n",
       "      <th>default rate</th>\n",
       "      <th>count</th>\n",
       "    </tr>\n",
       "    <tr>\n",
       "      <th>addr_state</th>\n",
       "      <th></th>\n",
       "      <th></th>\n",
       "    </tr>\n",
       "  </thead>\n",
       "  <tbody>\n",
       "    <tr>\n",
       "      <th>TN</th>\n",
       "      <td>0.238971</td>\n",
       "      <td>2448</td>\n",
       "    </tr>\n",
       "    <tr>\n",
       "      <th>IN</th>\n",
       "      <td>0.228805</td>\n",
       "      <td>2819</td>\n",
       "    </tr>\n",
       "    <tr>\n",
       "      <th>NV</th>\n",
       "      <td>0.216371</td>\n",
       "      <td>3836</td>\n",
       "    </tr>\n",
       "    <tr>\n",
       "      <th>AL</th>\n",
       "      <td>0.212611</td>\n",
       "      <td>3156</td>\n",
       "    </tr>\n",
       "    <tr>\n",
       "      <th>MS</th>\n",
       "      <td>0.211765</td>\n",
       "      <td>425</td>\n",
       "    </tr>\n",
       "  </tbody>\n",
       "</table>\n",
       "</div>"
      ],
      "text/plain": [
       "            default rate  count\n",
       "addr_state                     \n",
       "TN              0.238971   2448\n",
       "IN              0.228805   2819\n",
       "NV              0.216371   3836\n",
       "AL              0.212611   3156\n",
       "MS              0.211765    425"
      ]
     },
     "execution_count": 79,
     "metadata": {},
     "output_type": "execute_result"
    }
   ],
   "source": [
    "loan.groupby('addr_state')['default'].agg(['mean','count']).sort_values('mean',ascending=False).iloc[0:5,].rename(columns={'mean':'default rate'})"
   ]
  },
  {
   "cell_type": "markdown",
   "metadata": {},
   "source": [
    "top 5 lowest default rate by __addr_state__"
   ]
  },
  {
   "cell_type": "code",
   "execution_count": 80,
   "metadata": {},
   "outputs": [
    {
     "data": {
      "text/html": [
       "<div>\n",
       "<style>\n",
       "    .dataframe thead tr:only-child th {\n",
       "        text-align: right;\n",
       "    }\n",
       "\n",
       "    .dataframe thead th {\n",
       "        text-align: left;\n",
       "    }\n",
       "\n",
       "    .dataframe tbody tr th {\n",
       "        vertical-align: top;\n",
       "    }\n",
       "</style>\n",
       "<table border=\"1\" class=\"dataframe\">\n",
       "  <thead>\n",
       "    <tr style=\"text-align: right;\">\n",
       "      <th></th>\n",
       "      <th>default rate</th>\n",
       "      <th>count</th>\n",
       "    </tr>\n",
       "    <tr>\n",
       "      <th>addr_state</th>\n",
       "      <th></th>\n",
       "      <th></th>\n",
       "    </tr>\n",
       "  </thead>\n",
       "  <tbody>\n",
       "    <tr>\n",
       "      <th>ND</th>\n",
       "      <td>0.000000</td>\n",
       "      <td>8</td>\n",
       "    </tr>\n",
       "    <tr>\n",
       "      <th>ME</th>\n",
       "      <td>0.000000</td>\n",
       "      <td>13</td>\n",
       "    </tr>\n",
       "    <tr>\n",
       "      <th>NE</th>\n",
       "      <td>0.105263</td>\n",
       "      <td>38</td>\n",
       "    </tr>\n",
       "    <tr>\n",
       "      <th>DC</th>\n",
       "      <td>0.106079</td>\n",
       "      <td>839</td>\n",
       "    </tr>\n",
       "    <tr>\n",
       "      <th>MT</th>\n",
       "      <td>0.136119</td>\n",
       "      <td>742</td>\n",
       "    </tr>\n",
       "  </tbody>\n",
       "</table>\n",
       "</div>"
      ],
      "text/plain": [
       "            default rate  count\n",
       "addr_state                     \n",
       "ND              0.000000      8\n",
       "ME              0.000000     13\n",
       "NE              0.105263     38\n",
       "DC              0.106079    839\n",
       "MT              0.136119    742"
      ]
     },
     "execution_count": 80,
     "metadata": {},
     "output_type": "execute_result"
    }
   ],
   "source": [
    "loan.groupby('addr_state')['default'].agg(['mean','count']).sort_values('mean',ascending=True).iloc[0:5,].rename(columns={'mean':'default rate'})"
   ]
  },
  {
   "cell_type": "markdown",
   "metadata": {},
   "source": [
    "__annual_inc__ (annual income) by default outcome"
   ]
  },
  {
   "cell_type": "code",
   "execution_count": 81,
   "metadata": {},
   "outputs": [
    {
     "data": {
      "text/plain": [
       "<matplotlib.text.Text at 0x130527e90>"
      ]
     },
     "execution_count": 81,
     "metadata": {},
     "output_type": "execute_result"
    },
    {
     "data": {
      "image/png": "[encoded data removed]",
      "text/plain": [
       "<matplotlib.figure.Figure at 0x1305432d0>"
      ]
     },
     "metadata": {},
     "output_type": "display_data"
    }
   ],
   "source": [
    "pd.DataFrame({'annual_inc':np.log10(loan['annual_inc']), 'default':loan['default']}).boxplot(column='annual_inc',by='default',figsize=(6,6),fontsize=14)\n",
    "plt.title('Boxplot of log10(annual income) grouped by default',fontsize=14)\n",
    "plt.legend(['0.0: non-default','1.0: default'],fontsize=14)\n",
    "plt.xlabel('default',fontsize=14)\n",
    "plt.ylabel('log10(annual_inc)',fontsize=14)"
   ]
  },
  {
   "cell_type": "code",
   "execution_count": 82,
   "metadata": {},
   "outputs": [],
   "source": [
    "# grouped bar plot\n",
    "# groupby = loan.groupby('default')['annual_inc'].agg(['mean','std','count',lambda x: x.std()/np.sqrt(len(x))]).rename(columns={'<lambda>':'std_err'})\n",
    "# groupby['mean'].plot.bar(yerr=groupby['std_err'],figsize=(6,4))"
   ]
  },
  {
   "cell_type": "markdown",
   "metadata": {},
   "source": [
    "__emp_title__: Top 10 employment titles with highest and lowest default rate (group size > 100)"
   ]
  },
  {
   "cell_type": "code",
   "execution_count": 83,
   "metadata": {},
   "outputs": [
    {
     "data": {
      "text/plain": [
       "21407"
      ]
     },
     "execution_count": 83,
     "metadata": {},
     "output_type": "execute_result"
    }
   ],
   "source": [
    "sum(loan['emp_title'].value_counts().nlargest(50))"
   ]
  },
  {
   "cell_type": "code",
   "execution_count": 85,
   "metadata": {},
   "outputs": [
    {
     "data": {
      "text/html": [
       "<div>\n",
       "<style>\n",
       "    .dataframe thead tr:only-child th {\n",
       "        text-align: right;\n",
       "    }\n",
       "\n",
       "    .dataframe thead th {\n",
       "        text-align: left;\n",
       "    }\n",
       "\n",
       "    .dataframe tbody tr th {\n",
       "        vertical-align: top;\n",
       "    }\n",
       "</style>\n",
       "<table border=\"1\" class=\"dataframe\">\n",
       "  <thead>\n",
       "    <tr style=\"text-align: right;\">\n",
       "      <th></th>\n",
       "      <th>count</th>\n",
       "      <th>default rate</th>\n",
       "    </tr>\n",
       "    <tr>\n",
       "      <th>emp_title</th>\n",
       "      <th></th>\n",
       "      <th></th>\n",
       "    </tr>\n",
       "  </thead>\n",
       "  <tbody>\n",
       "    <tr>\n",
       "      <th>owner</th>\n",
       "      <td>246</td>\n",
       "      <td>0.357724</td>\n",
       "    </tr>\n",
       "    <tr>\n",
       "      <th>Server</th>\n",
       "      <td>137</td>\n",
       "      <td>0.343066</td>\n",
       "    </tr>\n",
       "    <tr>\n",
       "      <th>nurse</th>\n",
       "      <td>104</td>\n",
       "      <td>0.307692</td>\n",
       "    </tr>\n",
       "    <tr>\n",
       "      <th>Operator</th>\n",
       "      <td>123</td>\n",
       "      <td>0.300813</td>\n",
       "    </tr>\n",
       "    <tr>\n",
       "      <th>Machinist</th>\n",
       "      <td>102</td>\n",
       "      <td>0.294118</td>\n",
       "    </tr>\n",
       "    <tr>\n",
       "      <th>manager</th>\n",
       "      <td>590</td>\n",
       "      <td>0.291525</td>\n",
       "    </tr>\n",
       "    <tr>\n",
       "      <th>US Postal Service</th>\n",
       "      <td>127</td>\n",
       "      <td>0.283465</td>\n",
       "    </tr>\n",
       "    <tr>\n",
       "      <th>truck driver</th>\n",
       "      <td>270</td>\n",
       "      <td>0.281481</td>\n",
       "    </tr>\n",
       "    <tr>\n",
       "      <th>driver</th>\n",
       "      <td>384</td>\n",
       "      <td>0.281250</td>\n",
       "    </tr>\n",
       "    <tr>\n",
       "      <th>Walmart</th>\n",
       "      <td>185</td>\n",
       "      <td>0.275676</td>\n",
       "    </tr>\n",
       "  </tbody>\n",
       "</table>\n",
       "</div>"
      ],
      "text/plain": [
       "                   count  default rate\n",
       "emp_title                             \n",
       "owner                246      0.357724\n",
       "Server               137      0.343066\n",
       "nurse                104      0.307692\n",
       "Operator             123      0.300813\n",
       "Machinist            102      0.294118\n",
       "manager              590      0.291525\n",
       "US Postal Service    127      0.283465\n",
       "truck driver         270      0.281481\n",
       "driver               384      0.281250\n",
       "Walmart              185      0.275676"
      ]
     },
     "execution_count": 85,
     "metadata": {},
     "output_type": "execute_result"
    }
   ],
   "source": [
    "summary = loan.groupby('emp_title')['default'].agg(['count','mean'])\n",
    "summary[summary['count'] > 100].sort_values('mean',ascending=False).iloc[:10].rename(columns={'mean':'default rate'})"
   ]
  },
  {
   "cell_type": "code",
   "execution_count": 86,
   "metadata": {
    "scrolled": true
   },
   "outputs": [
    {
     "data": {
      "text/html": [
       "<div>\n",
       "<style>\n",
       "    .dataframe thead tr:only-child th {\n",
       "        text-align: right;\n",
       "    }\n",
       "\n",
       "    .dataframe thead th {\n",
       "        text-align: left;\n",
       "    }\n",
       "\n",
       "    .dataframe tbody tr th {\n",
       "        vertical-align: top;\n",
       "    }\n",
       "</style>\n",
       "<table border=\"1\" class=\"dataframe\">\n",
       "  <thead>\n",
       "    <tr style=\"text-align: right;\">\n",
       "      <th></th>\n",
       "      <th>count</th>\n",
       "      <th>default rate</th>\n",
       "    </tr>\n",
       "    <tr>\n",
       "      <th>emp_title</th>\n",
       "      <th></th>\n",
       "      <th></th>\n",
       "    </tr>\n",
       "  </thead>\n",
       "  <tbody>\n",
       "    <tr>\n",
       "      <th>Software Engineer</th>\n",
       "      <td>235</td>\n",
       "      <td>0.063830</td>\n",
       "    </tr>\n",
       "    <tr>\n",
       "      <th>Lockheed Martin</th>\n",
       "      <td>126</td>\n",
       "      <td>0.071429</td>\n",
       "    </tr>\n",
       "    <tr>\n",
       "      <th>Branch Manager</th>\n",
       "      <td>236</td>\n",
       "      <td>0.072034</td>\n",
       "    </tr>\n",
       "    <tr>\n",
       "      <th>Regional Manager</th>\n",
       "      <td>107</td>\n",
       "      <td>0.074766</td>\n",
       "    </tr>\n",
       "    <tr>\n",
       "      <th>Physician</th>\n",
       "      <td>102</td>\n",
       "      <td>0.088235</td>\n",
       "    </tr>\n",
       "    <tr>\n",
       "      <th>Vice President</th>\n",
       "      <td>380</td>\n",
       "      <td>0.089474</td>\n",
       "    </tr>\n",
       "    <tr>\n",
       "      <th>Financial Advisor</th>\n",
       "      <td>120</td>\n",
       "      <td>0.091667</td>\n",
       "    </tr>\n",
       "    <tr>\n",
       "      <th>Accounting Manager</th>\n",
       "      <td>104</td>\n",
       "      <td>0.096154</td>\n",
       "    </tr>\n",
       "    <tr>\n",
       "      <th>Program Manager</th>\n",
       "      <td>176</td>\n",
       "      <td>0.096591</td>\n",
       "    </tr>\n",
       "    <tr>\n",
       "      <th>Firefighter</th>\n",
       "      <td>113</td>\n",
       "      <td>0.097345</td>\n",
       "    </tr>\n",
       "  </tbody>\n",
       "</table>\n",
       "</div>"
      ],
      "text/plain": [
       "                    count  default rate\n",
       "emp_title                              \n",
       "Software Engineer     235      0.063830\n",
       "Lockheed Martin       126      0.071429\n",
       "Branch Manager        236      0.072034\n",
       "Regional Manager      107      0.074766\n",
       "Physician             102      0.088235\n",
       "Vice President        380      0.089474\n",
       "Financial Advisor     120      0.091667\n",
       "Accounting Manager    104      0.096154\n",
       "Program Manager       176      0.096591\n",
       "Firefighter           113      0.097345"
      ]
     },
     "execution_count": 86,
     "metadata": {},
     "output_type": "execute_result"
    }
   ],
   "source": [
    "summary[summary['count'] > 100].sort_values('mean',ascending=True).iloc[:10].rename(columns={'mean':'default rate'})"
   ]
  },
  {
   "cell_type": "markdown",
   "metadata": {},
   "source": [
    "__issue_d, earliest_cr_line__: take the difference to get the number of days since earliest credit line."
   ]
  },
  {
   "cell_type": "code",
   "execution_count": 87,
   "metadata": {
    "collapsed": true
   },
   "outputs": [],
   "source": [
    "# convert to date\n",
    "loan['issue_d'] = pd.to_datetime(loan['issue_d'])\n",
    "loan['earliest_cr_line'] = pd.to_datetime(loan['earliest_cr_line'])\n",
    "\n",
    "# take the difference\n",
    "loan['days_since_earliest_cr_line'] = (loan['issue_d'] - loan['earliest_cr_line']).dt.days\n",
    "\n",
    "# drop issue_d and earliest_cr_line\n",
    "loan.drop(['issue_d', 'earliest_cr_line'], axis=1, inplace=True)"
   ]
  },
  {
   "cell_type": "markdown",
   "metadata": {},
   "source": [
    "__grade, sub_grade__: transform to ordinal scale (1 to 35). Lower value represents better grade."
   ]
  },
  {
   "cell_type": "code",
   "execution_count": 89,
   "metadata": {
    "scrolled": true
   },
   "outputs": [
    {
     "name": "stdout",
     "output_type": "stream",
     "text": [
      "['B' 'C' 'A' 'E' 'F' 'D' 'G']\n",
      "['B2' 'C4' 'C5' 'C1' 'A4' 'E1' 'F2' 'B5' 'C3' 'B1' 'D1' 'A1' 'B3' 'B4' 'C2'\n",
      " 'D2' 'A3' 'A5' 'D5' 'A2' 'E4' 'D3' 'D4' 'F3' 'E3' 'F1' 'E5' 'G4' 'E2' 'G2'\n",
      " 'G1' 'F5' 'F4' 'G5' 'G3']\n",
      "35\n"
     ]
    }
   ],
   "source": [
    "print loan['grade'].unique()\n",
    "print loan['sub_grade'].unique()\n",
    "print len(loan['sub_grade'].unique())\n",
    "\n",
    "# map the grades to a continuous variable\n",
    "loan['grade_level'] = loan['sub_grade'].map({'A1':1,'A2':2,'A3':3,'A4':4,'A5':5,\n",
    "                      'B1':6,'B2':7,'B3':8,'B4':9,'B5':10,\n",
    "                      'C1':11,'C2':12,'C3':13,'C4':14,'C5':15,\n",
    "                      'D1':16,'D2':17,'D3':18,'D4':19,'D5':20,\n",
    "                      'E1':21,'E2':22,'E3':23,'E4':24,'E5':25,\n",
    "                      'F1':26,'F2':27,'F3':28,'F4':29,'F5':30,\n",
    "                      'G1':31,'G2':32,'G3':33,'G4':34,'G5':35,})\n",
    "\n",
    "# delete grade, sub_grade\n",
    "loan.drop(['grade', 'sub_grade'], axis=1, inplace=True)"
   ]
  },
  {
   "cell_type": "code",
   "execution_count": 90,
   "metadata": {},
   "outputs": [
    {
     "data": {
      "text/plain": [
       "<matplotlib.text.Text at 0x12ff10c90>"
      ]
     },
     "execution_count": 90,
     "metadata": {},
     "output_type": "execute_result"
    },
    {
     "data": {
      "image/png": "[encoded data removed]",
      "text/plain": [
       "<matplotlib.figure.Figure at 0x11efcb2d0>"
      ]
     },
     "metadata": {},
     "output_type": "display_data"
    }
   ],
   "source": [
    "loan.groupby('default')['grade_level'].plot(kind='kde',figsize=(6,4))\n",
    "plt.xlabel('default')\n",
    "plt.ylabel('density')\n",
    "plt.legend(['non-default','default'])\n",
    "plt.xlim([0,36])\n",
    "plt.title('Density of grade levels by default')"
   ]
  },
  {
   "cell_type": "markdown",
   "metadata": {},
   "source": [
    "__emp_length__: Variable emp_length has 11 categories, we cut the them into 4 different ranges."
   ]
  },
  {
   "cell_type": "code",
   "execution_count": 91,
   "metadata": {},
   "outputs": [
    {
     "name": "stdout",
     "output_type": "stream",
     "text": [
      "10+ years    77256\n",
      "2 years      23647\n",
      "< 1 year     20975\n",
      "3 years      20484\n",
      "5 years      18136\n",
      "1 year       16951\n",
      "4 years      16263\n",
      "6 years      14816\n",
      "7 years      14156\n",
      "8 years      11922\n",
      "n/a           9968\n",
      "9 years       9616\n",
      "Name: emp_length, dtype: int64\n",
      "10+ years    77256\n",
      "0-2 years    71541\n",
      "3-5 years    54883\n",
      "6-9 years    50510\n",
      "Name: emp_length, dtype: int64\n"
     ]
    }
   ],
   "source": [
    "# before cut\n",
    "print loan['emp_length'].value_counts()\n",
    "\n",
    "# cut\n",
    "loan['emp_length'] = loan['emp_length'].map({'10+ years': '10+ years',\n",
    "                       '9 years': '6-9 years',\n",
    "                       '8 years': '6-9 years',\n",
    "                       '7 years': '6-9 years',\n",
    "                       '6 years': '6-9 years',\n",
    "                       '5 years': '3-5 years',\n",
    "                       '4 years': '3-5 years',\n",
    "                       '3 years': '3-5 years',\n",
    "                       '2 years': '0-2 years',\n",
    "                       '1 year': '0-2 years',\n",
    "                       '< 1 year': '0-2 years',\n",
    "                       'n/a': '0-2 years' # no employment information\n",
    "                      })\n",
    "\n",
    "# after cut\n",
    "print loan['emp_length'].value_counts()"
   ]
  },
  {
   "cell_type": "markdown",
   "metadata": {
    "collapsed": true
   },
   "source": [
    "__pymnt_plan, policy_code, application_type__: Alomost constant. Drop them."
   ]
  },
  {
   "cell_type": "code",
   "execution_count": 92,
   "metadata": {},
   "outputs": [
    {
     "name": "stdout",
     "output_type": "stream",
     "text": [
      "n    254188\n",
      "y         2\n",
      "Name: pymnt_plan, dtype: int64\n",
      "1.0    254190\n",
      "Name: policy_code, dtype: int64\n",
      "INDIVIDUAL    254189\n",
      "JOINT              1\n",
      "Name: application_type, dtype: int64\n"
     ]
    }
   ],
   "source": [
    "# drop almost-constant variables\n",
    "print loan['pymnt_plan'].value_counts()\n",
    "print loan['policy_code'].value_counts()\n",
    "print loan['application_type'].value_counts()\n",
    "\n",
    "# delete them\n",
    "loan.drop(['pymnt_plan', 'policy_code', 'application_type'], axis=1, inplace=True)"
   ]
  },
  {
   "cell_type": "markdown",
   "metadata": {},
   "source": [
    "__home_ownership__: Keep as it is."
   ]
  },
  {
   "cell_type": "code",
   "execution_count": 93,
   "metadata": {
    "scrolled": true
   },
   "outputs": [
    {
     "data": {
      "text/plain": [
       "MORTGAGE    125342\n",
       "RENT        106568\n",
       "OWN          22095\n",
       "OTHER          141\n",
       "NONE            43\n",
       "ANY              1\n",
       "Name: home_ownership, dtype: int64"
      ]
     },
     "execution_count": 93,
     "metadata": {},
     "output_type": "execute_result"
    }
   ],
   "source": [
    "loan['home_ownership'].value_counts()"
   ]
  },
  {
   "cell_type": "markdown",
   "metadata": {},
   "source": [
    "__initial_list_status__: Keep as it is."
   ]
  },
  {
   "cell_type": "code",
   "execution_count": 94,
   "metadata": {},
   "outputs": [
    {
     "data": {
      "text/plain": [
       "default  initial_list_status\n",
       "0.0      f                      149146\n",
       "         w                       58577\n",
       "1.0      f                       33601\n",
       "         w                       12866\n",
       "Name: initial_list_status, dtype: int64"
      ]
     },
     "execution_count": 94,
     "metadata": {},
     "output_type": "execute_result"
    }
   ],
   "source": [
    "loan.groupby('default')['initial_list_status'].value_counts()"
   ]
  },
  {
   "cell_type": "markdown",
   "metadata": {},
   "source": [
    "__installment__"
   ]
  },
  {
   "cell_type": "code",
   "execution_count": 95,
   "metadata": {
    "scrolled": true
   },
   "outputs": [
    {
     "data": {
      "text/plain": [
       "<matplotlib.text.Text at 0x11efc27d0>"
      ]
     },
     "execution_count": 95,
     "metadata": {},
     "output_type": "execute_result"
    },
    {
     "data": {
      "image/png": "[encoded data removed]",
      "text/plain": [
       "<matplotlib.figure.Figure at 0x11e746990>"
      ]
     },
     "metadata": {},
     "output_type": "display_data"
    }
   ],
   "source": [
    "loan['installment'].hist(bins=20, figsize=(6,4))\n",
    "plt.title('Histogram of installment (monthly payment)')\n",
    "plt.xlabel('installment')\n",
    "plt.ylabel('count')"
   ]
  },
  {
   "cell_type": "markdown",
   "metadata": {},
   "source": [
    "__int_rate__: APR of loan"
   ]
  },
  {
   "cell_type": "code",
   "execution_count": 96,
   "metadata": {},
   "outputs": [
    {
     "data": {
      "text/plain": [
       "<matplotlib.text.Text at 0x12a243cd0>"
      ]
     },
     "execution_count": 96,
     "metadata": {},
     "output_type": "execute_result"
    },
    {
     "data": {
      "image/png": "[encoded data removed]",
      "text/plain": [
       "<matplotlib.figure.Figure at 0x12ff22590>"
      ]
     },
     "metadata": {},
     "output_type": "display_data"
    }
   ],
   "source": [
    "loan['int_rate'].hist(bins=20, figsize=(6,4))\n",
    "plt.title('Histogram of APR')\n",
    "plt.xlabel('APR (%)')\n",
    "plt.ylabel('count')"
   ]
  },
  {
   "cell_type": "markdown",
   "metadata": {},
   "source": [
    "__loan_amnt__: The listed amount of the loan applied for by the borrower."
   ]
  },
  {
   "cell_type": "code",
   "execution_count": 97,
   "metadata": {},
   "outputs": [
    {
     "data": {
      "text/plain": [
       "count    254190.000000\n",
       "mean      13570.590897\n",
       "std        8133.386869\n",
       "min         500.000000\n",
       "25%        7250.000000\n",
       "50%       12000.000000\n",
       "75%       18250.000000\n",
       "max       35000.000000\n",
       "Name: loan_amnt, dtype: float64"
      ]
     },
     "execution_count": 97,
     "metadata": {},
     "output_type": "execute_result"
    }
   ],
   "source": [
    "loan['loan_amnt'].describe()"
   ]
  },
  {
   "cell_type": "code",
   "execution_count": 98,
   "metadata": {},
   "outputs": [
    {
     "data": {
      "text/plain": [
       "<matplotlib.text.Text at 0x125d28dd0>"
      ]
     },
     "execution_count": 98,
     "metadata": {},
     "output_type": "execute_result"
    },
    {
     "data": {
      "image/png": "[encoded data removed]",
      "text/plain": [
       "<matplotlib.figure.Figure at 0x125c68cd0>"
      ]
     },
     "metadata": {},
     "output_type": "display_data"
    }
   ],
   "source": [
    "loan['loan_amnt'].hist(bins=15, figsize=(6,4))\n",
    "plt.title('Histogram of loan amount')\n",
    "plt.xlabel('loan amount')\n",
    "plt.ylabel('count')"
   ]
  },
  {
   "cell_type": "markdown",
   "metadata": {},
   "source": [
    "__purpose__"
   ]
  },
  {
   "cell_type": "code",
   "execution_count": 99,
   "metadata": {},
   "outputs": [
    {
     "data": {
      "text/plain": [
       "debt_consolidation    149153\n",
       "credit_card            50309\n",
       "home_improvement       14976\n",
       "other                  14342\n",
       "major_purchase          6279\n",
       "small_business          4765\n",
       "car                     3656\n",
       "medical                 2869\n",
       "moving                  2039\n",
       "wedding                 1955\n",
       "house                   1659\n",
       "vacation                1596\n",
       "educational              325\n",
       "renewable_energy         267\n",
       "Name: purpose, dtype: int64"
      ]
     },
     "execution_count": 99,
     "metadata": {},
     "output_type": "execute_result"
    }
   ],
   "source": [
    "loan['purpose'].value_counts()"
   ]
  },
  {
   "cell_type": "markdown",
   "metadata": {},
   "source": [
    "__verification_status__"
   ]
  },
  {
   "cell_type": "code",
   "execution_count": 100,
   "metadata": {},
   "outputs": [
    {
     "data": {
      "text/html": [
       "<div>\n",
       "<style>\n",
       "    .dataframe thead tr:only-child th {\n",
       "        text-align: right;\n",
       "    }\n",
       "\n",
       "    .dataframe thead th {\n",
       "        text-align: left;\n",
       "    }\n",
       "\n",
       "    .dataframe tbody tr th {\n",
       "        vertical-align: top;\n",
       "    }\n",
       "</style>\n",
       "<table border=\"1\" class=\"dataframe\">\n",
       "  <thead>\n",
       "    <tr style=\"text-align: right;\">\n",
       "      <th></th>\n",
       "      <th>default rate</th>\n",
       "      <th>count</th>\n",
       "    </tr>\n",
       "    <tr>\n",
       "      <th>verification_status</th>\n",
       "      <th></th>\n",
       "      <th></th>\n",
       "    </tr>\n",
       "  </thead>\n",
       "  <tbody>\n",
       "    <tr>\n",
       "      <th>Not Verified</th>\n",
       "      <td>0.144611</td>\n",
       "      <td>86342</td>\n",
       "    </tr>\n",
       "    <tr>\n",
       "      <th>Source Verified</th>\n",
       "      <td>0.190700</td>\n",
       "      <td>74473</td>\n",
       "    </tr>\n",
       "    <tr>\n",
       "      <th>Verified</th>\n",
       "      <td>0.211823</td>\n",
       "      <td>93375</td>\n",
       "    </tr>\n",
       "  </tbody>\n",
       "</table>\n",
       "</div>"
      ],
      "text/plain": [
       "                     default rate  count\n",
       "verification_status                     \n",
       "Not Verified             0.144611  86342\n",
       "Source Verified          0.190700  74473\n",
       "Verified                 0.211823  93375"
      ]
     },
     "execution_count": 100,
     "metadata": {},
     "output_type": "execute_result"
    }
   ],
   "source": [
    "loan.groupby('verification_status')['default'].agg(['mean','count']).rename(columns={'mean':'default rate'})"
   ]
  },
  {
   "cell_type": "code",
   "execution_count": 101,
   "metadata": {},
   "outputs": [
    {
     "data": {
      "text/plain": [
       "Index([u'addr_state', u'annual_inc', u'emp_length', u'emp_title',\n",
       "       u'home_ownership', u'initial_list_status', u'installment', u'int_rate',\n",
       "       u'loan_amnt', u'purpose', u'term', u'verification_status', u'default',\n",
       "       u'days_since_earliest_cr_line', u'grade_level'],\n",
       "      dtype='object')"
      ]
     },
     "execution_count": 101,
     "metadata": {},
     "output_type": "execute_result"
    }
   ],
   "source": [
    "loan.columns"
   ]
  },
  {
   "cell_type": "markdown",
   "metadata": {},
   "source": [
    "Now check NAs again."
   ]
  },
  {
   "cell_type": "code",
   "execution_count": 102,
   "metadata": {
    "scrolled": false
   },
   "outputs": [
    {
     "name": "stdout",
     "output_type": "stream",
     "text": [
      "(254190, 15)\n"
     ]
    },
    {
     "data": {
      "text/html": [
       "<div>\n",
       "<style>\n",
       "    .dataframe thead tr:only-child th {\n",
       "        text-align: right;\n",
       "    }\n",
       "\n",
       "    .dataframe thead th {\n",
       "        text-align: left;\n",
       "    }\n",
       "\n",
       "    .dataframe tbody tr th {\n",
       "        vertical-align: top;\n",
       "    }\n",
       "</style>\n",
       "<table border=\"1\" class=\"dataframe\">\n",
       "  <thead>\n",
       "    <tr style=\"text-align: right;\">\n",
       "      <th></th>\n",
       "      <th>Type</th>\n",
       "      <th>missing counts</th>\n",
       "      <th>missing percentage</th>\n",
       "    </tr>\n",
       "  </thead>\n",
       "  <tbody>\n",
       "    <tr>\n",
       "      <th>emp_title</th>\n",
       "      <td>object</td>\n",
       "      <td>14007</td>\n",
       "      <td>0.06</td>\n",
       "    </tr>\n",
       "  </tbody>\n",
       "</table>\n",
       "</div>"
      ],
      "text/plain": [
       "             Type  missing counts  missing percentage\n",
       "emp_title  object           14007                0.06"
      ]
     },
     "execution_count": 102,
     "metadata": {},
     "output_type": "execute_result"
    }
   ],
   "source": [
    "# NA count table\n",
    "print loan.shape\n",
    "NAs = pd.concat([loan.dtypes, loan.isnull().sum(), np.round(loan.isnull().sum()/len(loan), 2)], axis=1, keys=['Type', 'missing counts','missing percentage'])\n",
    "NAs[NAs['missing counts'] > 0]"
   ]
  },
  {
   "cell_type": "code",
   "execution_count": null,
   "metadata": {
    "collapsed": true
   },
   "outputs": [],
   "source": []
  },
  {
   "cell_type": "code",
   "execution_count": null,
   "metadata": {
    "collapsed": true
   },
   "outputs": [],
   "source": []
  },
  {
   "cell_type": "code",
   "execution_count": null,
   "metadata": {
    "collapsed": true
   },
   "outputs": [],
   "source": []
  },
  {
   "cell_type": "code",
   "execution_count": null,
   "metadata": {
    "collapsed": true
   },
   "outputs": [],
   "source": []
  },
  {
   "cell_type": "markdown",
   "metadata": {},
   "source": [
    "## Modeling"
   ]
  },
  {
   "cell_type": "markdown",
   "metadata": {
    "collapsed": true
   },
   "source": [
    "### 1. Performance Metric\n",
    "\n",
    "We use AUC (Area-under-the-curve) as an optimization metric. This is a popular metric within credit modeling."
   ]
  },
  {
   "cell_type": "code",
   "execution_count": 127,
   "metadata": {
    "collapsed": true
   },
   "outputs": [],
   "source": [
    "def get_auc(y_true, y_pred):\n",
    "    # y: an array of labels marking the actualy result as default (1) or non-default (0) \n",
    "    # y_pred: a probability that a row has defaulted\n",
    "    # fpr: false-positive rate\n",
    "    # tpr: true-positive rate\n",
    "    \n",
    "    fpr, tpr, thresholds = roc_curve(y_true, y_pred)\n",
    "    auc_score = auc(fpr, tpr)\n",
    "    return auc_score"
   ]
  },
  {
   "cell_type": "markdown",
   "metadata": {},
   "source": [
    "### 2. Split training and test data"
   ]
  },
  {
   "cell_type": "code",
   "execution_count": 296,
   "metadata": {},
   "outputs": [],
   "source": [
    "# setup X and y\n",
    "X = pd.get_dummies(loan[[u'addr_state', u'annual_inc', u'emp_length', u'home_ownership', u'initial_list_status',\n",
    "                         u'installment', u'int_rate', u'loan_amnt', u'purpose', u'term', u'verification_status',\n",
    "                         u'days_since_earliest_cr_line', u'grade_level']])\n",
    "y = default"
   ]
  },
  {
   "cell_type": "code",
   "execution_count": 297,
   "metadata": {},
   "outputs": [],
   "source": [
    "# split data\n",
    "X_train, X_test, y_train, y_test = train_test_split(X, y, test_size=0.8, random_state=5)"
   ]
  },
  {
   "cell_type": "code",
   "execution_count": 187,
   "metadata": {
    "scrolled": true
   },
   "outputs": [
    {
     "name": "stdout",
     "output_type": "stream",
     "text": [
      "Traning sample size:  76257\n",
      "Test sample size 177933\n",
      "Columns:  Index([u'annual_inc', u'installment', u'int_rate', u'loan_amnt',\n",
      "       u'days_since_earliest_cr_line', u'grade_level', u'addr_state_AK',\n",
      "       u'addr_state_AL', u'addr_state_AR', u'addr_state_AZ', u'addr_state_CA',\n",
      "       u'addr_state_CO', u'addr_state_CT', u'addr_state_DC', u'addr_state_DE',\n",
      "       u'addr_state_FL', u'addr_state_GA', u'addr_state_HI', u'addr_state_IA',\n",
      "       u'addr_state_ID', u'addr_state_IL', u'addr_state_IN', u'addr_state_KS',\n",
      "       u'addr_state_KY', u'addr_state_LA', u'addr_state_MA', u'addr_state_MD',\n",
      "       u'addr_state_ME', u'addr_state_MI', u'addr_state_MN', u'addr_state_MO',\n",
      "       u'addr_state_MS', u'addr_state_MT', u'addr_state_NC', u'addr_state_ND',\n",
      "       u'addr_state_NE', u'addr_state_NH', u'addr_state_NJ', u'addr_state_NM',\n",
      "       u'addr_state_NV', u'addr_state_NY', u'addr_state_OH', u'addr_state_OK',\n",
      "       u'addr_state_OR', u'addr_state_PA', u'addr_state_RI', u'addr_state_SC',\n",
      "       u'addr_state_SD', u'addr_state_TN', u'addr_state_TX', u'addr_state_UT',\n",
      "       u'addr_state_VA', u'addr_state_VT', u'addr_state_WA', u'addr_state_WI',\n",
      "       u'addr_state_WV', u'addr_state_WY', u'emp_length_0-2 years',\n",
      "       u'emp_length_10+ years', u'emp_length_3-5 years',\n",
      "       u'emp_length_6-9 years', u'home_ownership_ANY',\n",
      "       u'home_ownership_MORTGAGE', u'home_ownership_NONE',\n",
      "       u'home_ownership_OTHER', u'home_ownership_OWN', u'home_ownership_RENT',\n",
      "       u'initial_list_status_f', u'initial_list_status_w', u'purpose_car',\n",
      "       u'purpose_credit_card', u'purpose_debt_consolidation',\n",
      "       u'purpose_educational', u'purpose_home_improvement', u'purpose_house',\n",
      "       u'purpose_major_purchase', u'purpose_medical', u'purpose_moving',\n",
      "       u'purpose_other', u'purpose_renewable_energy',\n",
      "       u'purpose_small_business', u'purpose_vacation', u'purpose_wedding',\n",
      "       u'term_ 36 months', u'term_ 60 months',\n",
      "       u'verification_status_Not Verified',\n",
      "       u'verification_status_Source Verified',\n",
      "       u'verification_status_Verified'],\n",
      "      dtype='object')\n",
      "Datatypes:  annual_inc                             float64\n",
      "installment                            float64\n",
      "int_rate                               float64\n",
      "loan_amnt                              float64\n",
      "days_since_earliest_cr_line              int64\n",
      "grade_level                              int64\n",
      "addr_state_AK                            uint8\n",
      "addr_state_AL                            uint8\n",
      "addr_state_AR                            uint8\n",
      "addr_state_AZ                            uint8\n",
      "addr_state_CA                            uint8\n",
      "addr_state_CO                            uint8\n",
      "addr_state_CT                            uint8\n",
      "addr_state_DC                            uint8\n",
      "addr_state_DE                            uint8\n",
      "addr_state_FL                            uint8\n",
      "addr_state_GA                            uint8\n",
      "addr_state_HI                            uint8\n",
      "addr_state_IA                            uint8\n",
      "addr_state_ID                            uint8\n",
      "addr_state_IL                            uint8\n",
      "addr_state_IN                            uint8\n",
      "addr_state_KS                            uint8\n",
      "addr_state_KY                            uint8\n",
      "addr_state_LA                            uint8\n",
      "addr_state_MA                            uint8\n",
      "addr_state_MD                            uint8\n",
      "addr_state_ME                            uint8\n",
      "addr_state_MI                            uint8\n",
      "addr_state_MN                            uint8\n",
      "                                        ...   \n",
      "emp_length_10+ years                     uint8\n",
      "emp_length_3-5 years                     uint8\n",
      "emp_length_6-9 years                     uint8\n",
      "home_ownership_ANY                       uint8\n",
      "home_ownership_MORTGAGE                  uint8\n",
      "home_ownership_NONE                      uint8\n",
      "home_ownership_OTHER                     uint8\n",
      "home_ownership_OWN                       uint8\n",
      "home_ownership_RENT                      uint8\n",
      "initial_list_status_f                    uint8\n",
      "initial_list_status_w                    uint8\n",
      "purpose_car                              uint8\n",
      "purpose_credit_card                      uint8\n",
      "purpose_debt_consolidation               uint8\n",
      "purpose_educational                      uint8\n",
      "purpose_home_improvement                 uint8\n",
      "purpose_house                            uint8\n",
      "purpose_major_purchase                   uint8\n",
      "purpose_medical                          uint8\n",
      "purpose_moving                           uint8\n",
      "purpose_other                            uint8\n",
      "purpose_renewable_energy                 uint8\n",
      "purpose_small_business                   uint8\n",
      "purpose_vacation                         uint8\n",
      "purpose_wedding                          uint8\n",
      "term_ 36 months                          uint8\n",
      "term_ 60 months                          uint8\n",
      "verification_status_Not Verified         uint8\n",
      "verification_status_Source Verified      uint8\n",
      "verification_status_Verified             uint8\n",
      "Length: 88, dtype: object\n"
     ]
    }
   ],
   "source": [
    "print 'Traning sample size: ', len(X_train)\n",
    "print 'Test sample size', len(X_test)\n",
    "print 'Columns: ', X_train.columns\n",
    "print 'Datatypes: ', X_train.dtypes"
   ]
  },
  {
   "cell_type": "markdown",
   "metadata": {},
   "source": [
    "### 3. Logistic regression"
   ]
  },
  {
   "cell_type": "code",
   "execution_count": 293,
   "metadata": {},
   "outputs": [],
   "source": [
    "# X_train_scaled = scale(X_train)\n",
    "# pca = PCA(n_components=40).fit(X_train_scaled)"
   ]
  },
  {
   "cell_type": "code",
   "execution_count": 295,
   "metadata": {
    "scrolled": false
   },
   "outputs": [
    {
     "data": {
      "text/plain": [
       "array([ 0.04508112,  0.0292117 ,  0.02356523,  0.02011151,  0.01913441,\n",
       "        0.01653975,  0.01594282,  0.01548969,  0.01430727,  0.01394359,\n",
       "        0.01358448,  0.01303347,  0.01298447,  0.01261094,  0.01244868,\n",
       "        0.01217605,  0.01209569,  0.01207203,  0.01201433,  0.01199599,\n",
       "        0.01198023,  0.0119323 ,  0.01192172,  0.01189949,  0.01186086,\n",
       "        0.01184761,  0.01182987,  0.01181883,  0.01179602,  0.01177757,\n",
       "        0.01175798,  0.01174738,  0.01173128,  0.01172209,  0.01171345,\n",
       "        0.01169297,  0.01168034,  0.01165929,  0.01164926,  0.01163065])"
      ]
     },
     "execution_count": 295,
     "metadata": {},
     "output_type": "execute_result"
    }
   ],
   "source": [
    "# pca.explained_variance_ratio_"
   ]
  },
  {
   "cell_type": "code",
   "execution_count": 267,
   "metadata": {
    "scrolled": true
   },
   "outputs": [
    {
     "name": "stdout",
     "output_type": "stream",
     "text": [
      "Optimization terminated successfully.    (Exit mode 0)\n",
      "            Current function value: 0.440488793658\n",
      "            Iterations: 626\n",
      "            Function evaluations: 654\n",
      "            Gradient evaluations: 626\n"
     ]
    },
    {
     "ename": "LinAlgError",
     "evalue": "Singular matrix",
     "output_type": "error",
     "traceback": [
      "\u001b[0;31m---------------------------------------------------------------------------\u001b[0m",
      "\u001b[0;31mLinAlgError\u001b[0m                               Traceback (most recent call last)",
      "\u001b[0;32m<ipython-input-267-76de421d2038>\u001b[0m in \u001b[0;36m<module>\u001b[0;34m()\u001b[0m\n\u001b[1;32m      1\u001b[0m \u001b[0mlogit\u001b[0m \u001b[0;34m=\u001b[0m \u001b[0msm\u001b[0m\u001b[0;34m.\u001b[0m\u001b[0mLogit\u001b[0m\u001b[0;34m(\u001b[0m\u001b[0my_train\u001b[0m\u001b[0;34m,\u001b[0m \u001b[0mX_train\u001b[0m\u001b[0;34m)\u001b[0m\u001b[0;34m\u001b[0m\u001b[0m\n\u001b[0;32m----> 2\u001b[0;31m \u001b[0mresult\u001b[0m \u001b[0;34m=\u001b[0m \u001b[0mlogit\u001b[0m\u001b[0;34m.\u001b[0m\u001b[0mfit_regularized\u001b[0m\u001b[0;34m(\u001b[0m\u001b[0mmethod\u001b[0m\u001b[0;34m=\u001b[0m\u001b[0;34m'l1'\u001b[0m\u001b[0;34m,\u001b[0m\u001b[0mmaxiter\u001b[0m\u001b[0;34m=\u001b[0m\u001b[0;36m1000\u001b[0m\u001b[0;34m)\u001b[0m\u001b[0;34m\u001b[0m\u001b[0m\n\u001b[0m",
      "\u001b[0;32m/Users/ignii/anaconda/lib/python2.7/site-packages/statsmodels/discrete/discrete_model.pyc\u001b[0m in \u001b[0;36mfit_regularized\u001b[0;34m(self, start_params, method, maxiter, full_output, disp, callback, alpha, trim_mode, auto_trim_tol, size_trim_tol, qc_tol, **kwargs)\u001b[0m\n\u001b[1;32m    441\u001b[0m                 \u001b[0mfull_output\u001b[0m\u001b[0;34m=\u001b[0m\u001b[0mfull_output\u001b[0m\u001b[0;34m,\u001b[0m \u001b[0mdisp\u001b[0m\u001b[0;34m=\u001b[0m\u001b[0mdisp\u001b[0m\u001b[0;34m,\u001b[0m \u001b[0mcallback\u001b[0m\u001b[0;34m=\u001b[0m\u001b[0mcallback\u001b[0m\u001b[0;34m,\u001b[0m\u001b[0;34m\u001b[0m\u001b[0m\n\u001b[1;32m    442\u001b[0m                 \u001b[0malpha\u001b[0m\u001b[0;34m=\u001b[0m\u001b[0malpha\u001b[0m\u001b[0;34m,\u001b[0m \u001b[0mtrim_mode\u001b[0m\u001b[0;34m=\u001b[0m\u001b[0mtrim_mode\u001b[0m\u001b[0;34m,\u001b[0m \u001b[0mauto_trim_tol\u001b[0m\u001b[0;34m=\u001b[0m\u001b[0mauto_trim_tol\u001b[0m\u001b[0;34m,\u001b[0m\u001b[0;34m\u001b[0m\u001b[0m\n\u001b[0;32m--> 443\u001b[0;31m                 size_trim_tol=size_trim_tol, qc_tol=qc_tol, **kwargs)\n\u001b[0m\u001b[1;32m    444\u001b[0m         \u001b[0;32mif\u001b[0m \u001b[0mmethod\u001b[0m \u001b[0;32min\u001b[0m \u001b[0;34m[\u001b[0m\u001b[0;34m'l1'\u001b[0m\u001b[0;34m,\u001b[0m \u001b[0;34m'l1_cvxopt_cp'\u001b[0m\u001b[0;34m]\u001b[0m\u001b[0;34m:\u001b[0m\u001b[0;34m\u001b[0m\u001b[0m\n\u001b[1;32m    445\u001b[0m             \u001b[0mdiscretefit\u001b[0m \u001b[0;34m=\u001b[0m \u001b[0mL1BinaryResults\u001b[0m\u001b[0;34m(\u001b[0m\u001b[0mself\u001b[0m\u001b[0;34m,\u001b[0m \u001b[0mbnryfit\u001b[0m\u001b[0;34m)\u001b[0m\u001b[0;34m\u001b[0m\u001b[0m\n",
      "\u001b[0;32m/Users/ignii/anaconda/lib/python2.7/site-packages/statsmodels/discrete/discrete_model.pyc\u001b[0m in \u001b[0;36mfit_regularized\u001b[0;34m(self, start_params, method, maxiter, full_output, disp, callback, alpha, trim_mode, auto_trim_tol, size_trim_tol, qc_tol, qc_verbose, **kwargs)\u001b[0m\n\u001b[1;32m    355\u001b[0m                 \u001b[0mmethod\u001b[0m\u001b[0;34m=\u001b[0m\u001b[0mmethod\u001b[0m\u001b[0;34m,\u001b[0m \u001b[0mmaxiter\u001b[0m\u001b[0;34m=\u001b[0m\u001b[0mmaxiter\u001b[0m\u001b[0;34m,\u001b[0m \u001b[0mfull_output\u001b[0m\u001b[0;34m=\u001b[0m\u001b[0mfull_output\u001b[0m\u001b[0;34m,\u001b[0m\u001b[0;34m\u001b[0m\u001b[0m\n\u001b[1;32m    356\u001b[0m                 \u001b[0mdisp\u001b[0m\u001b[0;34m=\u001b[0m\u001b[0mdisp\u001b[0m\u001b[0;34m,\u001b[0m \u001b[0mcallback\u001b[0m\u001b[0;34m=\u001b[0m\u001b[0mcallback\u001b[0m\u001b[0;34m,\u001b[0m \u001b[0mextra_fit_funcs\u001b[0m\u001b[0;34m=\u001b[0m\u001b[0mextra_fit_funcs\u001b[0m\u001b[0;34m,\u001b[0m\u001b[0;34m\u001b[0m\u001b[0m\n\u001b[0;32m--> 357\u001b[0;31m                 cov_params_func=cov_params_func, **kwargs)\n\u001b[0m\u001b[1;32m    358\u001b[0m \u001b[0;34m\u001b[0m\u001b[0m\n\u001b[1;32m    359\u001b[0m         \u001b[0;32mreturn\u001b[0m \u001b[0mmlefit\u001b[0m \u001b[0;31m# up to subclasses to wrap results\u001b[0m\u001b[0;34m\u001b[0m\u001b[0m\n",
      "\u001b[0;32m/Users/ignii/anaconda/lib/python2.7/site-packages/statsmodels/base/model.pyc\u001b[0m in \u001b[0;36mfit\u001b[0;34m(self, start_params, method, maxiter, full_output, disp, fargs, callback, retall, skip_hessian, **kwargs)\u001b[0m\n\u001b[1;32m    454\u001b[0m         \u001b[0mcov_params_func\u001b[0m \u001b[0;34m=\u001b[0m \u001b[0mkwargs\u001b[0m\u001b[0;34m.\u001b[0m\u001b[0msetdefault\u001b[0m\u001b[0;34m(\u001b[0m\u001b[0;34m'cov_params_func'\u001b[0m\u001b[0;34m,\u001b[0m \u001b[0mNone\u001b[0m\u001b[0;34m)\u001b[0m\u001b[0;34m\u001b[0m\u001b[0m\n\u001b[1;32m    455\u001b[0m         \u001b[0;32mif\u001b[0m \u001b[0mcov_params_func\u001b[0m\u001b[0;34m:\u001b[0m\u001b[0;34m\u001b[0m\u001b[0m\n\u001b[0;32m--> 456\u001b[0;31m             \u001b[0mHinv\u001b[0m \u001b[0;34m=\u001b[0m \u001b[0mcov_params_func\u001b[0m\u001b[0;34m(\u001b[0m\u001b[0mself\u001b[0m\u001b[0;34m,\u001b[0m \u001b[0mxopt\u001b[0m\u001b[0;34m,\u001b[0m \u001b[0mretvals\u001b[0m\u001b[0;34m)\u001b[0m\u001b[0;34m\u001b[0m\u001b[0m\n\u001b[0m\u001b[1;32m    457\u001b[0m         \u001b[0;32melif\u001b[0m \u001b[0mmethod\u001b[0m \u001b[0;34m==\u001b[0m \u001b[0;34m'newton'\u001b[0m \u001b[0;32mand\u001b[0m \u001b[0mfull_output\u001b[0m\u001b[0;34m:\u001b[0m\u001b[0;34m\u001b[0m\u001b[0m\n\u001b[1;32m    458\u001b[0m             \u001b[0mHinv\u001b[0m \u001b[0;34m=\u001b[0m \u001b[0mnp\u001b[0m\u001b[0;34m.\u001b[0m\u001b[0mlinalg\u001b[0m\u001b[0;34m.\u001b[0m\u001b[0minv\u001b[0m\u001b[0;34m(\u001b[0m\u001b[0;34m-\u001b[0m\u001b[0mretvals\u001b[0m\u001b[0;34m[\u001b[0m\u001b[0;34m'Hessian'\u001b[0m\u001b[0;34m]\u001b[0m\u001b[0;34m)\u001b[0m \u001b[0;34m/\u001b[0m \u001b[0mnobs\u001b[0m\u001b[0;34m\u001b[0m\u001b[0m\n",
      "\u001b[0;32m/Users/ignii/anaconda/lib/python2.7/site-packages/statsmodels/discrete/discrete_model.pyc\u001b[0m in \u001b[0;36mcov_params_func_l1\u001b[0;34m(self, likelihood_model, xopt, retvals)\u001b[0m\n\u001b[1;32m    375\u001b[0m             \u001b[0mH_restricted\u001b[0m \u001b[0;34m=\u001b[0m \u001b[0mH\u001b[0m\u001b[0;34m[\u001b[0m\u001b[0mnz_idx\u001b[0m\u001b[0;34m[\u001b[0m\u001b[0;34m:\u001b[0m\u001b[0;34m,\u001b[0m \u001b[0mNone\u001b[0m\u001b[0;34m]\u001b[0m\u001b[0;34m,\u001b[0m \u001b[0mnz_idx\u001b[0m\u001b[0;34m]\u001b[0m\u001b[0;34m\u001b[0m\u001b[0m\n\u001b[1;32m    376\u001b[0m             \u001b[0;31m# Covariance estimate for the nonzero params\u001b[0m\u001b[0;34m\u001b[0m\u001b[0;34m\u001b[0m\u001b[0m\n\u001b[0;32m--> 377\u001b[0;31m             \u001b[0mH_restricted_inv\u001b[0m \u001b[0;34m=\u001b[0m \u001b[0mnp\u001b[0m\u001b[0;34m.\u001b[0m\u001b[0mlinalg\u001b[0m\u001b[0;34m.\u001b[0m\u001b[0minv\u001b[0m\u001b[0;34m(\u001b[0m\u001b[0;34m-\u001b[0m\u001b[0mH_restricted\u001b[0m\u001b[0;34m)\u001b[0m\u001b[0;34m\u001b[0m\u001b[0m\n\u001b[0m\u001b[1;32m    378\u001b[0m         \u001b[0;32melse\u001b[0m\u001b[0;34m:\u001b[0m\u001b[0;34m\u001b[0m\u001b[0m\n\u001b[1;32m    379\u001b[0m             \u001b[0mH_restricted_inv\u001b[0m \u001b[0;34m=\u001b[0m \u001b[0mnp\u001b[0m\u001b[0;34m.\u001b[0m\u001b[0mzeros\u001b[0m\u001b[0;34m(\u001b[0m\u001b[0;36m0\u001b[0m\u001b[0;34m)\u001b[0m\u001b[0;34m\u001b[0m\u001b[0m\n",
      "\u001b[0;32m/Users/ignii/anaconda/lib/python2.7/site-packages/numpy/linalg/linalg.pyc\u001b[0m in \u001b[0;36minv\u001b[0;34m(a)\u001b[0m\n\u001b[1;32m    524\u001b[0m     \u001b[0msignature\u001b[0m \u001b[0;34m=\u001b[0m \u001b[0;34m'D->D'\u001b[0m \u001b[0;32mif\u001b[0m \u001b[0misComplexType\u001b[0m\u001b[0;34m(\u001b[0m\u001b[0mt\u001b[0m\u001b[0;34m)\u001b[0m \u001b[0;32melse\u001b[0m \u001b[0;34m'd->d'\u001b[0m\u001b[0;34m\u001b[0m\u001b[0m\n\u001b[1;32m    525\u001b[0m     \u001b[0mextobj\u001b[0m \u001b[0;34m=\u001b[0m \u001b[0mget_linalg_error_extobj\u001b[0m\u001b[0;34m(\u001b[0m\u001b[0m_raise_linalgerror_singular\u001b[0m\u001b[0;34m)\u001b[0m\u001b[0;34m\u001b[0m\u001b[0m\n\u001b[0;32m--> 526\u001b[0;31m     \u001b[0mainv\u001b[0m \u001b[0;34m=\u001b[0m \u001b[0m_umath_linalg\u001b[0m\u001b[0;34m.\u001b[0m\u001b[0minv\u001b[0m\u001b[0;34m(\u001b[0m\u001b[0ma\u001b[0m\u001b[0;34m,\u001b[0m \u001b[0msignature\u001b[0m\u001b[0;34m=\u001b[0m\u001b[0msignature\u001b[0m\u001b[0;34m,\u001b[0m \u001b[0mextobj\u001b[0m\u001b[0;34m=\u001b[0m\u001b[0mextobj\u001b[0m\u001b[0;34m)\u001b[0m\u001b[0;34m\u001b[0m\u001b[0m\n\u001b[0m\u001b[1;32m    527\u001b[0m     \u001b[0;32mreturn\u001b[0m \u001b[0mwrap\u001b[0m\u001b[0;34m(\u001b[0m\u001b[0mainv\u001b[0m\u001b[0;34m.\u001b[0m\u001b[0mastype\u001b[0m\u001b[0;34m(\u001b[0m\u001b[0mresult_t\u001b[0m\u001b[0;34m,\u001b[0m \u001b[0mcopy\u001b[0m\u001b[0;34m=\u001b[0m\u001b[0mFalse\u001b[0m\u001b[0;34m)\u001b[0m\u001b[0;34m)\u001b[0m\u001b[0;34m\u001b[0m\u001b[0m\n\u001b[1;32m    528\u001b[0m \u001b[0;34m\u001b[0m\u001b[0m\n",
      "\u001b[0;32m/Users/ignii/anaconda/lib/python2.7/site-packages/numpy/linalg/linalg.pyc\u001b[0m in \u001b[0;36m_raise_linalgerror_singular\u001b[0;34m(err, flag)\u001b[0m\n\u001b[1;32m     88\u001b[0m \u001b[0;34m\u001b[0m\u001b[0m\n\u001b[1;32m     89\u001b[0m \u001b[0;32mdef\u001b[0m \u001b[0m_raise_linalgerror_singular\u001b[0m\u001b[0;34m(\u001b[0m\u001b[0merr\u001b[0m\u001b[0;34m,\u001b[0m \u001b[0mflag\u001b[0m\u001b[0;34m)\u001b[0m\u001b[0;34m:\u001b[0m\u001b[0;34m\u001b[0m\u001b[0m\n\u001b[0;32m---> 90\u001b[0;31m     \u001b[0;32mraise\u001b[0m \u001b[0mLinAlgError\u001b[0m\u001b[0;34m(\u001b[0m\u001b[0;34m\"Singular matrix\"\u001b[0m\u001b[0;34m)\u001b[0m\u001b[0;34m\u001b[0m\u001b[0m\n\u001b[0m\u001b[1;32m     91\u001b[0m \u001b[0;34m\u001b[0m\u001b[0m\n\u001b[1;32m     92\u001b[0m \u001b[0;32mdef\u001b[0m \u001b[0m_raise_linalgerror_nonposdef\u001b[0m\u001b[0;34m(\u001b[0m\u001b[0merr\u001b[0m\u001b[0;34m,\u001b[0m \u001b[0mflag\u001b[0m\u001b[0;34m)\u001b[0m\u001b[0;34m:\u001b[0m\u001b[0;34m\u001b[0m\u001b[0m\n",
      "\u001b[0;31mLinAlgError\u001b[0m: Singular matrix"
     ]
    }
   ],
   "source": [
    "# logit = sm.Logit(y_train, X_train)\n",
    "# result = logit.fit_regularized(method='l1',maxiter=1000)"
   ]
  },
  {
   "cell_type": "code",
   "execution_count": 264,
   "metadata": {
    "scrolled": true
   },
   "outputs": [
    {
     "name": "stdout",
     "output_type": "stream",
     "text": [
      "                           Logit Regression Results                           \n",
      "==============================================================================\n",
      "Dep. Variable:            loan_status   No. Observations:               203352\n",
      "Model:                          Logit   Df Residuals:                   203320\n",
      "Method:                           MLE   Df Model:                           31\n",
      "Date:                Sun, 11 Jun 2017   Pseudo R-squ.:                 0.07445\n",
      "Time:                        14:20:56   Log-Likelihood:                -89434.\n",
      "converged:                      False   LL-Null:                       -96629.\n",
      "                                        LLR p-value:                     0.000\n",
      "=======================================================================================================\n",
      "                                          coef    std err          z      P>|z|      [0.025      0.975]\n",
      "-------------------------------------------------------------------------------------------------------\n",
      "annual_inc                          -7.116e-06   2.08e-07    -34.199      0.000   -7.52e-06   -6.71e-06\n",
      "installment                             0.0003      0.000      2.090      0.037    2.03e-05       0.001\n",
      "int_rate                                0.1657      0.006     29.329      0.000       0.155       0.177\n",
      "loan_amnt                            3.357e-06      5e-06      0.672      0.502   -6.44e-06    1.32e-05\n",
      "days_since_earliest_cr_line          6.726e-06   2.51e-06      2.678      0.007     1.8e-06    1.16e-05\n",
      "grade_level                            -0.0332      0.004     -8.985      0.000      -0.040      -0.026\n",
      "emp_length_0-2 years                    1.3696   2.65e+05   5.18e-06      1.000   -5.19e+05    5.19e+05\n",
      "emp_length_10+ years                    1.2727   2.82e+05   4.52e-06      1.000   -5.52e+05    5.52e+05\n",
      "emp_length_3-5 years                    1.3052   2.81e+05   4.64e-06      1.000   -5.51e+05    5.51e+05\n",
      "emp_length_6-9 years                    1.3466    2.7e+05   4.98e-06      1.000    -5.3e+05     5.3e+05\n",
      "home_ownership_ANY                     -3.4447        nan        nan        nan         nan         nan\n",
      "home_ownership_MORTGAGE                 0.1780        nan        nan        nan         nan         nan\n",
      "home_ownership_NONE                     0.1505        nan        nan        nan         nan         nan\n",
      "home_ownership_OTHER                    0.7179        nan        nan        nan         nan         nan\n",
      "home_ownership_OWN                      0.2546        nan        nan        nan         nan         nan\n",
      "home_ownership_RENT                     0.3897        nan        nan        nan         nan         nan\n",
      "initial_list_status_f                  -2.3843        nan        nan        nan         nan         nan\n",
      "initial_list_status_w                  -2.4469        nan        nan        nan         nan         nan\n",
      "purpose_car                            -0.8141        nan        nan        nan         nan         nan\n",
      "purpose_credit_card                    -0.6776        nan        nan        nan         nan         nan\n",
      "purpose_debt_consolidation             -0.6469        nan        nan        nan         nan         nan\n",
      "purpose_educational                    -0.3274        nan        nan        nan         nan         nan\n",
      "purpose_home_improvement               -0.6340        nan        nan        nan         nan         nan\n",
      "purpose_house                          -0.8664        nan        nan        nan         nan         nan\n",
      "purpose_major_purchase                 -0.7166        nan        nan        nan         nan         nan\n",
      "purpose_medical                        -0.5799        nan        nan        nan         nan         nan\n",
      "purpose_moving                         -0.5423        nan        nan        nan         nan         nan\n",
      "purpose_other                          -0.5785        nan        nan        nan         nan         nan\n",
      "purpose_renewable_energy               -0.5909        nan        nan        nan         nan         nan\n",
      "purpose_small_business                 -0.0968        nan        nan        nan         nan         nan\n",
      "purpose_vacation                       -0.6093        nan        nan        nan         nan         nan\n",
      "purpose_wedding                        -0.9604        nan        nan        nan         nan         nan\n",
      "term_ 36 months                        -1.2056        nan        nan        nan         nan         nan\n",
      "term_ 60 months                        -0.8202        nan        nan        nan         nan         nan\n",
      "verification_status_Not Verified       -0.7234        nan        nan        nan         nan         nan\n",
      "verification_status_Source Verified    -0.6345        nan        nan        nan         nan         nan\n",
      "verification_status_Verified           -0.6678        nan        nan        nan         nan         nan\n",
      "=======================================================================================================\n"
     ]
    }
   ],
   "source": [
    "# print result.summary()"
   ]
  },
  {
   "cell_type": "markdown",
   "metadata": {},
   "source": [
    "### 4. Random Forest"
   ]
  },
  {
   "cell_type": "code",
   "execution_count": 298,
   "metadata": {},
   "outputs": [
    {
     "name": "stdout",
     "output_type": "stream",
     "text": [
      "Best number of trees:  50\n",
      "Random Forest - model AUC: 0.664397355351\n"
     ]
    }
   ],
   "source": [
    "# Random Forest classifier\n",
    "rf = RandomForestClassifier(bootstrap=True, class_weight='balanced', n_estimators=50)\n",
    "\n",
    "# tune n_estimators, use AUC score for cross validation instead of accuracy\n",
    "# rf = GridSearchCV(estimator=rf, scoring=make_scorer(get_auc), param_grid=dict(n_estimators=np.arange(10,100,10)), cv=5, n_jobs=-1)\n",
    "rf.fit(X_train, y_train)\n",
    "print \"Best number of trees: \", rf.n_estimators\n",
    "\n",
    "# probability prediction\n",
    "rf_pred = rf.predict_proba(X_test)[:,1]\n",
    "\n",
    "# AUC score\n",
    "rf_auc_score = get_auc(y_true=y_test, y_pred=rf_pred)\n",
    "print \"Random Forest - model AUC: %s\" % auc_score"
   ]
  },
  {
   "cell_type": "markdown",
   "metadata": {},
   "source": [
    "Now we look at the variable importances."
   ]
  },
  {
   "cell_type": "code",
   "execution_count": 299,
   "metadata": {},
   "outputs": [
    {
     "data": {
      "text/plain": [
       "1.0"
      ]
     },
     "execution_count": 299,
     "metadata": {},
     "output_type": "execute_result"
    }
   ],
   "source": [
    "rf.feature_importances_.sum()"
   ]
  },
  {
   "cell_type": "markdown",
   "metadata": {},
   "source": [
    "The sum of variable importances is 1. It is reasonable to sum up importances of all categories within a categorical variable to get its importance."
   ]
  },
  {
   "cell_type": "code",
   "execution_count": 300,
   "metadata": {},
   "outputs": [
    {
     "data": {
      "text/plain": [
       "<matplotlib.text.Text at 0x14e07d250>"
      ]
     },
     "execution_count": 300,
     "metadata": {},
     "output_type": "execute_result"
    },
    {
     "data": {
      "image/png": "[encoded data removed]",
      "text/plain": [
       "<matplotlib.figure.Figure at 0x11e1b1b10>"
      ]
     },
     "metadata": {},
     "output_type": "display_data"
    }
   ],
   "source": [
    "# calculate variable importances\n",
    "importances = pd.Series(rf.feature_importances_, index=list(X_train.columns))\n",
    "importances_original_var = pd.Series(rf.feature_importances_, index=list(X_train.columns))\n",
    "\n",
    "# group categories into their original variables\n",
    "for var in list(loan.columns):\n",
    "    importances_original_var[importances.index.str.contains(var)] = var\n",
    "importances = pd.DataFrame({'importance':importances, 'var':importances_original_var}).groupby('var')['importance'].sum()\n",
    "\n",
    "# plot\n",
    "importances.sort_values(ascending=True).plot(kind='barh',figsize=(8,5))\n",
    "plt.title('variable importances')\n",
    "plt.ylabel('variables')"
   ]
  },
  {
   "cell_type": "markdown",
   "metadata": {},
   "source": [
    "### 5. GBM"
   ]
  },
  {
   "cell_type": "code",
   "execution_count": 301,
   "metadata": {},
   "outputs": [
    {
     "name": "stdout",
     "output_type": "stream",
     "text": [
      "Best number of boosting stages:  50\n",
      "Random Forest - model AUC: 0.698652621892\n"
     ]
    }
   ],
   "source": [
    "# fit untuned Random Forest model\n",
    "gbm = GradientBoostingClassifier(subsample=0.7, n_estimators=50)\n",
    "\n",
    "# tune n_estimators, use AUC score for cross validation instead of accuracy\n",
    "# gbm = GridSearchCV(estimator=gbm,\n",
    "#                     scoring=make_scorer(get_auc),\n",
    "#                     param_grid=dict(n_estimators=np.arange(50,150,10)),\n",
    "#                     cv=5,\n",
    "#                     n_jobs=-1)\n",
    "gbm.fit(X_train, y_train)\n",
    "print \"Best number of boosting stages: \", gbm.n_estimators\n",
    "\n",
    "# probability prediction\n",
    "gbm_pred = gbm.predict_proba(X_test)[:,1]\n",
    "\n",
    "# AUC score\n",
    "gbm_auc_score = get_auc(y_test, gbm_pred)\n",
    "print \"Random Forest - model AUC: %s\" % gbm_auc_score"
   ]
  },
  {
   "cell_type": "markdown",
   "metadata": {},
   "source": [
    "### 6. Performance evaluation"
   ]
  },
  {
   "cell_type": "code",
   "execution_count": 304,
   "metadata": {},
   "outputs": [
    {
     "data": {
      "image/png": "[encoded data removed]",
      "text/plain": [
       "<matplotlib.figure.Figure at 0x13e784a10>"
      ]
     },
     "metadata": {},
     "output_type": "display_data"
    }
   ],
   "source": [
    "fpr1, tpr1, thresholds1 = roc_curve(y_test, rf_pred)\n",
    "fpr2, tpr2, thresholds2 = roc_curve(y_test, gbm_pred)\n",
    "plt.figure()\n",
    "plt.plot(fpr1, tpr1, color='darkorange', label='Random Forest (AUC = {0:0.2f})'.format(rf_auc_score))\n",
    "plt.plot(fpr2, tpr2, color='darkred', label='Gradient Boosting (AUC = {0:0.2f})'.format(gbm_auc_score))\n",
    "plt.plot([0, 1], [0, 1], color='navy', lw=2, linestyle='--')\n",
    "plt.xlim([0.0, 1.0])\n",
    "plt.ylim([0.0, 1.05])\n",
    "plt.xlabel('False Positive Rate')\n",
    "plt.ylabel('True Positive Rate')\n",
    "plt.title('ROC (Receiver operating characteristic) curve')\n",
    "plt.legend(loc=\"lower right\")\n",
    "plt.show()"
   ]
  }
 ],
 "metadata": {
  "kernelspec": {
   "display_name": "Python [default]",
   "language": "python",
   "name": "python2"
  },
  "language_info": {
   "codemirror_mode": {
    "name": "ipython",
    "version": 2
   },
   "file_extension": ".py",
   "mimetype": "text/x-python",
   "name": "python",
   "nbconvert_exporter": "python",
   "pygments_lexer": "ipython2",
   "version": "2.7.13"
  }
 },
 "nbformat": 4,
 "nbformat_minor": 2
}
