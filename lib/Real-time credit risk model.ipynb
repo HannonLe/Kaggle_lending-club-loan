{
 "cells": [
  {
   "cell_type": "markdown",
   "metadata": {},
   "source": [
    "# Lending Club Loan pre-issue credit risk model"
   ]
  },
  {
   "cell_type": "markdown",
   "metadata": {},
   "source": [
    "## Update log\n",
    "\n",
    "* __20170328__: Initial script\n",
    "* __20170608__: Updated the code under pandas 0.20.2 version\n",
    "* __20170610__: Rebuilt core model"
   ]
  },
  {
   "cell_type": "markdown",
   "metadata": {},
   "source": [
    "## Scope of modeling\n",
    "\n",
    "This script is used to build the pre-issue credit risk model.\n",
    "\n",
    "1. We focus on __closed deals__ only and try to classify between __default__ loans and __non-default__ loans. Current ongoing loans and fresh issued loan is not included in the scope of modeling.\n",
    "2. Since this is a __pre-issue credit risk model__ instead of a model for __real-time default detection__, only __variables collected prior to the issue day of the loan__ will be included as predictor variables (like loan information, current credit history). We do not include variables that are collected real-time throughout the loan period (like last payment day)."
   ]
  },
  {
   "cell_type": "code",
   "execution_count": 2,
   "metadata": {
    "collapsed": true
   },
   "outputs": [],
   "source": [
    "import random\n",
    "import time\n",
    "\n",
    "import pandas as pd\n",
    "import numpy as np\n",
    "\n",
    "import matplotlib.pyplot as plt\n",
    "import seaborn as sns\n",
    "%matplotlib inline\n",
    "\n",
    "from sklearn.linear_model import LogisticRegression\n",
    "from sklearn.ensemble import RandomForestClassifier\n",
    "from sklearn.ensemble import GradientBoostingClassifier\n",
    "from sklearn.model_selection import GridSearchCV\n",
    "from sklearn.metrics import roc_curve, auc, make_scorer, confusion_matrix, f1_score"
   ]
  },
  {
   "cell_type": "markdown",
   "metadata": {},
   "source": [
    "## Load Data from csv"
   ]
  },
  {
   "cell_type": "code",
   "execution_count": 4,
   "metadata": {},
   "outputs": [
    {
     "name": "stdout",
     "output_type": "stream",
     "text": [
      "(887379, 74)\n"
     ]
    }
   ],
   "source": [
    "# read csv (441.8 MB)\n",
    "loan = pd.read_csv(\"../data/loan.csv\", low_memory=False)\n",
    "loan_copy = loan.copy()\n",
    "# check dimension\n",
    "print loan.shape"
   ]
  },
  {
   "cell_type": "code",
   "execution_count": 75,
   "metadata": {
    "collapsed": true
   },
   "outputs": [],
   "source": [
    "# reset loan variable\n",
    "loan = loan_copy.copy()"
   ]
  },
  {
   "cell_type": "markdown",
   "metadata": {},
   "source": [
    "## Set up response variable"
   ]
  },
  {
   "cell_type": "code",
   "execution_count": 6,
   "metadata": {},
   "outputs": [
    {
     "data": {
      "text/plain": [
       "Current                                                601779\n",
       "Fully Paid                                             207723\n",
       "Charged Off                                             45248\n",
       "Late (31-120 days)                                      11591\n",
       "Issued                                                   8460\n",
       "In Grace Period                                          6253\n",
       "Late (16-30 days)                                        2357\n",
       "Does not meet the credit policy. Status:Fully Paid       1988\n",
       "Default                                                  1219\n",
       "Does not meet the credit policy. Status:Charged Off       761\n",
       "Name: loan_status, dtype: int64"
      ]
     },
     "execution_count": 6,
     "metadata": {},
     "output_type": "execute_result"
    }
   ],
   "source": [
    "# all categories of loan_status\n",
    "loan['loan_status'].value_counts()"
   ]
  },
  {
   "cell_type": "markdown",
   "metadata": {},
   "source": [
    "Loans with status \"Current\" represent loans that haven't been closed till Jan-2016 (the latest payment month in our data). For this analysis, we focus on closed deals only and try to classify between default and non-default.\n",
    "\n",
    "The loan_status of closed deals are:\n",
    "\n",
    "* __Fully Paid__ (non-default)\n",
    "* __Charged Off__ (default)\n",
    "* __Default__ (defualt)"
   ]
  },
  {
   "cell_type": "code",
   "execution_count": 76,
   "metadata": {
    "collapsed": true
   },
   "outputs": [],
   "source": [
    "# filter response categories\n",
    "loan = loan[loan['loan_status'].isin(['Fully Paid','Charged Off','Default'])]\n",
    "# set up binary response variable\n",
    "default = loan['loan_status'].map({\"Fully Paid\": 0.0,\"Charged Off\": 1.0,\"Default\": 1.0})\n",
    "loan['default'] = default\n",
    "# delete loan_status from data frame\n",
    "# loan.drop('loan_status', axis=1, inplace=True)"
   ]
  },
  {
   "cell_type": "code",
   "execution_count": 77,
   "metadata": {},
   "outputs": [
    {
     "name": "stdout",
     "output_type": "stream",
     "text": [
      "(254190, 75)\n",
      "(254190,)\n"
     ]
    }
   ],
   "source": [
    "# check dimension\n",
    "print loan.shape\n",
    "print default.shape"
   ]
  },
  {
   "cell_type": "markdown",
   "metadata": {},
   "source": [
    "## Predictor variables exploration"
   ]
  },
  {
   "cell_type": "code",
   "execution_count": 5,
   "metadata": {},
   "outputs": [
    {
     "data": {
      "text/plain": [
       "Index([u'acc_now_delinq', u'addr_state', u'all_util', u'annual_inc',\n",
       "       u'annual_inc_joint', u'application_type', u'collection_recovery_fee',\n",
       "       u'collections_12_mths_ex_med', u'delinq_2yrs', u'desc', u'dti',\n",
       "       u'dti_joint', u'earliest_cr_line', u'emp_length', u'emp_title',\n",
       "       u'funded_amnt', u'funded_amnt_inv', u'grade', u'home_ownership', u'id',\n",
       "       u'il_util', u'initial_list_status', u'inq_fi', u'inq_last_12m',\n",
       "       u'inq_last_6mths', u'installment', u'int_rate', u'issue_d',\n",
       "       u'last_credit_pull_d', u'last_pymnt_amnt', u'last_pymnt_d',\n",
       "       u'loan_amnt', u'loan_status', u'max_bal_bc', u'member_id',\n",
       "       u'mths_since_last_delinq', u'mths_since_last_major_derog',\n",
       "       u'mths_since_last_record', u'mths_since_rcnt_il', u'next_pymnt_d',\n",
       "       u'open_acc', u'open_acc_6m', u'open_il_12m', u'open_il_24m',\n",
       "       u'open_il_6m', u'open_rv_12m', u'open_rv_24m', u'out_prncp',\n",
       "       u'out_prncp_inv', u'policy_code', u'pub_rec', u'purpose', u'pymnt_plan',\n",
       "       u'recoveries', u'revol_bal', u'revol_util', u'sub_grade', u'term',\n",
       "       u'title', u'tot_coll_amt', u'tot_cur_bal', u'total_acc',\n",
       "       u'total_bal_il', u'total_cu_tl', u'total_pymnt', u'total_pymnt_inv',\n",
       "       u'total_rec_int', u'total_rec_late_fee', u'total_rec_prncp',\n",
       "       u'total_rev_hi_lim', u'url', u'verification_status',\n",
       "       u'verification_status_joint', u'zip_code'],\n",
       "      dtype='object')"
      ]
     },
     "execution_count": 5,
     "metadata": {},
     "output_type": "execute_result"
    }
   ],
   "source": [
    "# check column names\n",
    "loan.columns.sort_values()"
   ]
  },
  {
   "attachments": {},
   "cell_type": "markdown",
   "metadata": {},
   "source": [
    "### 1. Keep pre-issue variables only\n",
    "\n",
    "Pre-issue variables are variables representing basic loan information, borrower's demographic, income, credit history and other information collected when applying for loan. They are:\n",
    "\n",
    "* addr_state\n",
    "* annual_inc\n",
    "* annual_inc_joint\n",
    "* application_type\n",
    "* desc\n",
    "* earliest_cr_line\n",
    "* emp_length\n",
    "* emp_title\n",
    "* grade\n",
    "* home_ownership\n",
    "* id\n",
    "* initialListStatus\n",
    "* installment\n",
    "* int_rate\n",
    "* issue_d\n",
    "* loan_amnt\n",
    "* member_id\n",
    "* policy_code\n",
    "* purpose\n",
    "* pymnt_plan\n",
    "* sub_grade\n",
    "* term\n",
    "* title\n",
    "* url\n",
    "* verified_status_joint\n",
    "* zip_code"
   ]
  },
  {
   "cell_type": "code",
   "execution_count": 80,
   "metadata": {},
   "outputs": [],
   "source": [
    "# keep pre-issue variables\n",
    "loan = loan[['addr_state','annual_inc','annual_inc_joint','application_type','desc','earliest_cr_line',\n",
    "             'emp_length','emp_title','grade','home_ownership','id','initial_list_status','installment',\n",
    "             'int_rate','issue_d','loan_amnt','member_id','policy_code','purpose','pymnt_plan',\n",
    "             'sub_grade','term','title','url','verification_status','zip_code']]\n",
    "loan.shape"
   ]
  },
  {
   "cell_type": "markdown",
   "metadata": {},
   "source": [
    "### 2. Drop irrelevant variables."
   ]
  },
  {
   "cell_type": "code",
   "execution_count": 103,
   "metadata": {},
   "outputs": [
    {
     "data": {
      "text/plain": [
       "0.4310286492143301"
      ]
     },
     "execution_count": 103,
     "metadata": {},
     "output_type": "execute_result"
    }
   ],
   "source": [
    "loan['title'].str.contains('consolidation|Consolidation').mean()"
   ]
  },
  {
   "cell_type": "code",
   "execution_count": 105,
   "metadata": {},
   "outputs": [
    {
     "data": {
      "text/plain": [
       "0.012902661720438167"
      ]
     },
     "execution_count": 105,
     "metadata": {},
     "output_type": "execute_result"
    }
   ],
   "source": [
    "loan['emp_title'].str.contains('Bank').mean()"
   ]
  },
  {
   "cell_type": "code",
   "execution_count": 42,
   "metadata": {},
   "outputs": [
    {
     "data": {
      "text/plain": [
       "(254190, 68)"
      ]
     },
     "execution_count": 42,
     "metadata": {},
     "output_type": "execute_result"
    }
   ],
   "source": [
    "# drop irrelavent variables\n",
    "loan.drop(['id','member_id', 'desc', 'url', 'zip_code'], axis=1, inplace=True)\n",
    "# check dimension\n",
    "loan.shape"
   ]
  },
  {
   "cell_type": "markdown",
   "metadata": {
    "collapsed": true
   },
   "source": [
    "### 2. Check missing values"
   ]
  },
  {
   "cell_type": "code",
   "execution_count": 11,
   "metadata": {
    "collapsed": true,
    "scrolled": false
   },
   "outputs": [],
   "source": [
    "# NA count table\n",
    "NAs = pd.concat([loan.isnull().sum(), np.round(loan.isnull().sum()/len(loan), 2)], axis=1, keys=['missing counts','missing percentage'])"
   ]
  },
  {
   "cell_type": "code",
   "execution_count": 19,
   "metadata": {
    "scrolled": false
   },
   "outputs": [
    {
     "data": {
      "text/html": [
       "<div>\n",
       "<style>\n",
       "    .dataframe thead tr:only-child th {\n",
       "        text-align: right;\n",
       "    }\n",
       "\n",
       "    .dataframe thead th {\n",
       "        text-align: left;\n",
       "    }\n",
       "\n",
       "    .dataframe tbody tr th {\n",
       "        vertical-align: top;\n",
       "    }\n",
       "</style>\n",
       "<table border=\"1\" class=\"dataframe\">\n",
       "  <thead>\n",
       "    <tr style=\"text-align: right;\">\n",
       "      <th></th>\n",
       "      <th>missing counts</th>\n",
       "      <th>missing percentage</th>\n",
       "    </tr>\n",
       "  </thead>\n",
       "  <tbody>\n",
       "    <tr>\n",
       "      <th>total_rev_hi_lim</th>\n",
       "      <td>63726</td>\n",
       "      <td>0.25</td>\n",
       "    </tr>\n",
       "    <tr>\n",
       "      <th>tot_coll_amt</th>\n",
       "      <td>63726</td>\n",
       "      <td>0.25</td>\n",
       "    </tr>\n",
       "    <tr>\n",
       "      <th>tot_cur_bal</th>\n",
       "      <td>63726</td>\n",
       "      <td>0.25</td>\n",
       "    </tr>\n",
       "    <tr>\n",
       "      <th>mths_since_last_delinq</th>\n",
       "      <td>141446</td>\n",
       "      <td>0.56</td>\n",
       "    </tr>\n",
       "    <tr>\n",
       "      <th>mths_since_last_major_derog</th>\n",
       "      <td>206314</td>\n",
       "      <td>0.81</td>\n",
       "    </tr>\n",
       "    <tr>\n",
       "      <th>mths_since_last_record</th>\n",
       "      <td>222376</td>\n",
       "      <td>0.87</td>\n",
       "    </tr>\n",
       "    <tr>\n",
       "      <th>inq_fi</th>\n",
       "      <td>254046</td>\n",
       "      <td>1.00</td>\n",
       "    </tr>\n",
       "    <tr>\n",
       "      <th>all_util</th>\n",
       "      <td>254046</td>\n",
       "      <td>1.00</td>\n",
       "    </tr>\n",
       "    <tr>\n",
       "      <th>max_bal_bc</th>\n",
       "      <td>254046</td>\n",
       "      <td>1.00</td>\n",
       "    </tr>\n",
       "    <tr>\n",
       "      <th>open_rv_24m</th>\n",
       "      <td>254046</td>\n",
       "      <td>1.00</td>\n",
       "    </tr>\n",
       "    <tr>\n",
       "      <th>open_rv_12m</th>\n",
       "      <td>254046</td>\n",
       "      <td>1.00</td>\n",
       "    </tr>\n",
       "    <tr>\n",
       "      <th>il_util</th>\n",
       "      <td>254064</td>\n",
       "      <td>1.00</td>\n",
       "    </tr>\n",
       "    <tr>\n",
       "      <th>total_bal_il</th>\n",
       "      <td>254046</td>\n",
       "      <td>1.00</td>\n",
       "    </tr>\n",
       "    <tr>\n",
       "      <th>open_il_12m</th>\n",
       "      <td>254046</td>\n",
       "      <td>1.00</td>\n",
       "    </tr>\n",
       "    <tr>\n",
       "      <th>open_il_24m</th>\n",
       "      <td>254046</td>\n",
       "      <td>1.00</td>\n",
       "    </tr>\n",
       "    <tr>\n",
       "      <th>total_cu_tl</th>\n",
       "      <td>254046</td>\n",
       "      <td>1.00</td>\n",
       "    </tr>\n",
       "    <tr>\n",
       "      <th>open_il_6m</th>\n",
       "      <td>254046</td>\n",
       "      <td>1.00</td>\n",
       "    </tr>\n",
       "    <tr>\n",
       "      <th>open_acc_6m</th>\n",
       "      <td>254046</td>\n",
       "      <td>1.00</td>\n",
       "    </tr>\n",
       "    <tr>\n",
       "      <th>verification_status_joint</th>\n",
       "      <td>254189</td>\n",
       "      <td>1.00</td>\n",
       "    </tr>\n",
       "    <tr>\n",
       "      <th>dti_joint</th>\n",
       "      <td>254189</td>\n",
       "      <td>1.00</td>\n",
       "    </tr>\n",
       "    <tr>\n",
       "      <th>annual_inc_joint</th>\n",
       "      <td>254189</td>\n",
       "      <td>1.00</td>\n",
       "    </tr>\n",
       "    <tr>\n",
       "      <th>next_pymnt_d</th>\n",
       "      <td>252971</td>\n",
       "      <td>1.00</td>\n",
       "    </tr>\n",
       "    <tr>\n",
       "      <th>mths_since_rcnt_il</th>\n",
       "      <td>254050</td>\n",
       "      <td>1.00</td>\n",
       "    </tr>\n",
       "    <tr>\n",
       "      <th>inq_last_12m</th>\n",
       "      <td>254046</td>\n",
       "      <td>1.00</td>\n",
       "    </tr>\n",
       "  </tbody>\n",
       "</table>\n",
       "</div>"
      ],
      "text/plain": [
       "                             missing counts  missing percentage\n",
       "total_rev_hi_lim                      63726                0.25\n",
       "tot_coll_amt                          63726                0.25\n",
       "tot_cur_bal                           63726                0.25\n",
       "mths_since_last_delinq               141446                0.56\n",
       "mths_since_last_major_derog          206314                0.81\n",
       "mths_since_last_record               222376                0.87\n",
       "inq_fi                               254046                1.00\n",
       "all_util                             254046                1.00\n",
       "max_bal_bc                           254046                1.00\n",
       "open_rv_24m                          254046                1.00\n",
       "open_rv_12m                          254046                1.00\n",
       "il_util                              254064                1.00\n",
       "total_bal_il                         254046                1.00\n",
       "open_il_12m                          254046                1.00\n",
       "open_il_24m                          254046                1.00\n",
       "total_cu_tl                          254046                1.00\n",
       "open_il_6m                           254046                1.00\n",
       "open_acc_6m                          254046                1.00\n",
       "verification_status_joint            254189                1.00\n",
       "dti_joint                            254189                1.00\n",
       "annual_inc_joint                     254189                1.00\n",
       "next_pymnt_d                         252971                1.00\n",
       "mths_since_rcnt_il                   254050                1.00\n",
       "inq_last_12m                         254046                1.00"
      ]
     },
     "execution_count": 19,
     "metadata": {},
     "output_type": "execute_result"
    }
   ],
   "source": [
    "# print all variables that have NAs\n",
    "NAs[NAs['missing percentage'] != 0.0].sort_values('missing percentage')"
   ]
  },
  {
   "cell_type": "markdown",
   "metadata": {},
   "source": [
    "We drop variables that have over 90% NAs. Those variables cannot be used since "
   ]
  },
  {
   "cell_type": "code",
   "execution_count": 163,
   "metadata": {
    "scrolled": false
   },
   "outputs": [
    {
     "data": {
      "text/plain": [
       "(254190, 49)"
      ]
     },
     "execution_count": 163,
     "metadata": {},
     "output_type": "execute_result"
    }
   ],
   "source": [
    "# drop NA variables\n",
    "loan.drop(list(NAs[NAs['missing percentage'] > 0.5].index), axis=1, inplace=True)\n",
    "# check dimension\n",
    "loan.shape"
   ]
  },
  {
   "cell_type": "code",
   "execution_count": 18,
   "metadata": {},
   "outputs": [
    {
     "data": {
      "text/plain": [
       "<matplotlib.axes._subplots.AxesSubplot at 0x10f2018d0>"
      ]
     },
     "execution_count": 18,
     "metadata": {},
     "output_type": "execute_result"
    },
    {
     "data": {
      "image/png": "[encoded data removed]",
      "text/plain": [
       "<matplotlib.figure.Figure at 0x10f1dfd10>"
      ]
     },
     "metadata": {},
     "output_type": "display_data"
    }
   ],
   "source": [
    "loan['mths_since_last_delinq'].hist()"
   ]
  },
  {
   "cell_type": "code",
   "execution_count": null,
   "metadata": {
    "collapsed": true
   },
   "outputs": [],
   "source": []
  },
  {
   "cell_type": "markdown",
   "metadata": {},
   "source": [
    "## Data Cleaning & Feature engineering\n",
    "\n",
    "1. generate new variable using existing variables\n",
    "2. drop redundant variables\n",
    "3. change variable to proper data type"
   ]
  },
  {
   "cell_type": "markdown",
   "metadata": {},
   "source": [
    "__loan_amnt, funded_amnt, funded_amnt_inv__"
   ]
  },
  {
   "cell_type": "code",
   "execution_count": 84,
   "metadata": {},
   "outputs": [
    {
     "name": "stdout",
     "output_type": "stream",
     "text": [
      "1.0\n",
      "1.0\n"
     ]
    }
   ],
   "source": [
    "# loan_amnt is always greater than funded_amnt and funded_amnt_inv\n",
    "print (loan['loan_amnt'] >= loan['funded_amnt']).mean()\n",
    "print (loan['loan_amnt'] >= loan['funded_amnt_inv']).mean()\n",
    "\n",
    "# add variable perc_funded_inv: The amount committed by investors divided by total loan amount.\n",
    "loan['perc_funded_amnt'] = loan['funded_amnt'] / loan['loan_amnt']\n",
    "loan['perc_funded_amnt_inv'] = loan['funded_amnt_inv'] / loan['loan_amnt']\n",
    "\n",
    "# delete funded_amnt, funded_amnt_inv\n",
    "loan.drop('funded_amnt', axis=1, inplace=True)\n",
    "loan.drop('funded_amnt_inv', axis=1, inplace=True)"
   ]
  },
  {
   "cell_type": "markdown",
   "metadata": {},
   "source": [
    "__grade, sub_grade__"
   ]
  },
  {
   "cell_type": "code",
   "execution_count": 85,
   "metadata": {
    "scrolled": true
   },
   "outputs": [
    {
     "name": "stdout",
     "output_type": "stream",
     "text": [
      "['B' 'C' 'A' 'E' 'F' 'D' 'G']\n",
      "['B2' 'C4' 'C5' 'C1' 'A4' 'E1' 'F2' 'B5' 'C3' 'B1' 'D1' 'A1' 'B3' 'B4' 'C2'\n",
      " 'D2' 'A3' 'A5' 'D5' 'A2' 'E4' 'D3' 'D4' 'F3' 'E3' 'F1' 'E5' 'G4' 'E2' 'G2'\n",
      " 'G1' 'F5' 'F4' 'G5' 'G3']\n",
      "35\n"
     ]
    }
   ],
   "source": [
    "print loan['grade'].unique()\n",
    "print loan['sub_grade'].unique()\n",
    "print len(loan['sub_grade'].unique())\n",
    "\n",
    "# map the grades to a continuous variable\n",
    "loan['grade_level'] = loan['sub_grade'].map({'A1':1,'A2':2,'A3':3,'A4':4,'A5':5,\n",
    "                      'B1':6,'B2':7,'B3':8,'B4':9,'B5':10,\n",
    "                      'C1':11,'C2':12,'C3':13,'C4':14,'C5':15,\n",
    "                      'D1':16,'D2':17,'D3':18,'D4':19,'D5':20,\n",
    "                      'E1':21,'E2':22,'E3':23,'E4':24,'E5':25,\n",
    "                      'F1':26,'F2':27,'F3':28,'F4':29,'F5':30,\n",
    "                      'G1':31,'G2':32,'G3':33,'G4':34,'G5':35,})\n",
    "\n",
    "# delete grade, sub_grade\n",
    "loan.drop(['grade', 'sub_grade'], axis=1, inplace=True)"
   ]
  },
  {
   "cell_type": "markdown",
   "metadata": {},
   "source": [
    "__emp_length__: Variable emp_length has 11 categories, we cut the them into 4 different ranges."
   ]
  },
  {
   "cell_type": "code",
   "execution_count": 86,
   "metadata": {},
   "outputs": [
    {
     "name": "stdout",
     "output_type": "stream",
     "text": [
      "10+ years    77256\n",
      "2 years      23647\n",
      "< 1 year     20975\n",
      "3 years      20484\n",
      "5 years      18136\n",
      "1 year       16951\n",
      "4 years      16263\n",
      "6 years      14816\n",
      "7 years      14156\n",
      "8 years      11922\n",
      "n/a           9968\n",
      "9 years       9616\n",
      "Name: emp_length, dtype: int64\n",
      "10+ years    77256\n",
      "0-2 years    71541\n",
      "3-5 years    54883\n",
      "6-9 years    50510\n",
      "Name: emp_length, dtype: int64\n"
     ]
    }
   ],
   "source": [
    "# before cut\n",
    "print loan['emp_length'].value_counts()\n",
    "\n",
    "# cut\n",
    "loan['emp_length'] = loan['emp_length'].map({'10+ years': '10+ years',\n",
    "                       '9 years': '6-9 years',\n",
    "                       '8 years': '6-9 years',\n",
    "                       '7 years': '6-9 years',\n",
    "                       '6 years': '6-9 years',\n",
    "                       '5 years': '3-5 years',\n",
    "                       '4 years': '3-5 years',\n",
    "                       '3 years': '3-5 years',\n",
    "                       '2 years': '0-2 years',\n",
    "                       '1 year': '0-2 years',\n",
    "                       '< 1 year': '0-2 years',\n",
    "                       'n/a': '0-2 years' # no employment information\n",
    "                      })\n",
    "\n",
    "# after cut\n",
    "print loan['emp_length'].value_counts()"
   ]
  },
  {
   "cell_type": "markdown",
   "metadata": {
    "collapsed": true
   },
   "source": [
    "__pymnt_plan, policy_code, application_type__: Alomost constant. Drop them."
   ]
  },
  {
   "cell_type": "code",
   "execution_count": 87,
   "metadata": {},
   "outputs": [
    {
     "name": "stdout",
     "output_type": "stream",
     "text": [
      "n    254188\n",
      "y         2\n",
      "Name: pymnt_plan, dtype: int64\n",
      "1.0    254190\n",
      "Name: policy_code, dtype: int64\n",
      "INDIVIDUAL    254189\n",
      "JOINT              1\n",
      "Name: application_type, dtype: int64\n"
     ]
    }
   ],
   "source": [
    "# drop almost-constant variables\n",
    "print loan['pymnt_plan'].value_counts()\n",
    "print loan['policy_code'].value_counts()\n",
    "print loan['application_type'].value_counts()\n",
    "\n",
    "# delete them\n",
    "loan.drop(['pymnt_plan', 'policy_code', 'application_type'], axis=1, inplace=True)"
   ]
  },
  {
   "cell_type": "markdown",
   "metadata": {},
   "source": [
    "__issue_d, earliest_cr_line__: take the difference to get the number of days since earliest credit line."
   ]
  },
  {
   "cell_type": "code",
   "execution_count": 88,
   "metadata": {
    "collapsed": true
   },
   "outputs": [],
   "source": [
    "# convert to date\n",
    "loan['issue_d'] = pd.to_datetime(loan['issue_d'])\n",
    "loan['earliest_cr_line'] = pd.to_datetime(loan['earliest_cr_line'])\n",
    "\n",
    "# take the difference\n",
    "loan['days_since_earliest_cr_line'] = loan['issue_d'] - loan['earliest_cr_line']\n",
    "\n",
    "# drop issue_d and earliest_cr_line\n",
    "loan.drop(['issue_d', 'earliest_cr_line'], axis=1, inplace=True)"
   ]
  },
  {
   "cell_type": "code",
   "execution_count": 89,
   "metadata": {},
   "outputs": [
    {
     "data": {
      "text/plain": [
       "Index([u'loan_amnt', u'term', u'int_rate', u'installment', u'emp_length',\n",
       "       u'home_ownership', u'annual_inc', u'verification_status', u'purpose',\n",
       "       u'addr_state', u'dti', u'delinq_2yrs', u'inq_last_6mths', u'open_acc',\n",
       "       u'pub_rec', u'revol_bal', u'revol_util', u'total_acc',\n",
       "       u'initial_list_status', u'out_prncp', u'out_prncp_inv', u'total_pymnt',\n",
       "       u'total_pymnt_inv', u'total_rec_prncp', u'total_rec_int',\n",
       "       u'total_rec_late_fee', u'recoveries', u'collection_recovery_fee',\n",
       "       u'last_pymnt_d', u'last_pymnt_amnt', u'last_credit_pull_d',\n",
       "       u'collections_12_mths_ex_med', u'acc_now_delinq', u'perc_funded_amnt',\n",
       "       u'perc_funded_amnt_inv', u'grade_level',\n",
       "       u'days_since_earliest_cr_line'],\n",
       "      dtype='object')"
      ]
     },
     "execution_count": 89,
     "metadata": {},
     "output_type": "execute_result"
    }
   ],
   "source": [
    "loan.columns"
   ]
  },
  {
   "cell_type": "markdown",
   "metadata": {},
   "source": [
    "__last_pymnt_d, last_credit_pull_d__: take the difference."
   ]
  },
  {
   "cell_type": "code",
   "execution_count": 144,
   "metadata": {
    "collapsed": true
   },
   "outputs": [],
   "source": [
    "# convert to date\n",
    "loan['last_pymnt_d'] = pd.to_datetime(loan['last_pymnt_d'])\n",
    "loan['last_credit_pull_d'] = pd.to_datetime(loan['last_credit_pull_d'])\n",
    "\n",
    "# take the difference\n",
    "loan['days_diff_last_pymnt_pull'] = loan['last_credit_pull_d'] - loan['last_pymnt_d']\n",
    "\n",
    "# drop issue_d and earliest_cr_line\n",
    "loan.drop(['last_pymnt_d', 'last_credit_pull_d'], axis=1, inplace=True)"
   ]
  },
  {
   "cell_type": "markdown",
   "metadata": {},
   "source": [
    "Now check data types."
   ]
  },
  {
   "cell_type": "code",
   "execution_count": 154,
   "metadata": {
    "scrolled": false
   },
   "outputs": [
    {
     "name": "stdout",
     "output_type": "stream",
     "text": [
      "(254190, 35)\n"
     ]
    },
    {
     "data": {
      "text/html": [
       "<div>\n",
       "<table border=\"1\" class=\"dataframe\">\n",
       "  <thead>\n",
       "    <tr style=\"text-align: right;\">\n",
       "      <th></th>\n",
       "      <th>Type</th>\n",
       "      <th>missing counts</th>\n",
       "      <th>missing percentage</th>\n",
       "    </tr>\n",
       "  </thead>\n",
       "  <tbody>\n",
       "    <tr>\n",
       "      <th>loan_amnt</th>\n",
       "      <td>float64</td>\n",
       "      <td>0</td>\n",
       "      <td>0.0</td>\n",
       "    </tr>\n",
       "    <tr>\n",
       "      <th>term</th>\n",
       "      <td>object</td>\n",
       "      <td>0</td>\n",
       "      <td>0.0</td>\n",
       "    </tr>\n",
       "    <tr>\n",
       "      <th>int_rate</th>\n",
       "      <td>float64</td>\n",
       "      <td>0</td>\n",
       "      <td>0.0</td>\n",
       "    </tr>\n",
       "    <tr>\n",
       "      <th>installment</th>\n",
       "      <td>float64</td>\n",
       "      <td>0</td>\n",
       "      <td>0.0</td>\n",
       "    </tr>\n",
       "    <tr>\n",
       "      <th>emp_length</th>\n",
       "      <td>object</td>\n",
       "      <td>0</td>\n",
       "      <td>0.0</td>\n",
       "    </tr>\n",
       "    <tr>\n",
       "      <th>home_ownership</th>\n",
       "      <td>object</td>\n",
       "      <td>0</td>\n",
       "      <td>0.0</td>\n",
       "    </tr>\n",
       "    <tr>\n",
       "      <th>annual_inc</th>\n",
       "      <td>float64</td>\n",
       "      <td>0</td>\n",
       "      <td>0.0</td>\n",
       "    </tr>\n",
       "    <tr>\n",
       "      <th>verification_status</th>\n",
       "      <td>object</td>\n",
       "      <td>0</td>\n",
       "      <td>0.0</td>\n",
       "    </tr>\n",
       "    <tr>\n",
       "      <th>purpose</th>\n",
       "      <td>object</td>\n",
       "      <td>0</td>\n",
       "      <td>0.0</td>\n",
       "    </tr>\n",
       "    <tr>\n",
       "      <th>addr_state</th>\n",
       "      <td>object</td>\n",
       "      <td>0</td>\n",
       "      <td>0.0</td>\n",
       "    </tr>\n",
       "    <tr>\n",
       "      <th>dti</th>\n",
       "      <td>float64</td>\n",
       "      <td>0</td>\n",
       "      <td>0.0</td>\n",
       "    </tr>\n",
       "    <tr>\n",
       "      <th>delinq_2yrs</th>\n",
       "      <td>float64</td>\n",
       "      <td>0</td>\n",
       "      <td>0.0</td>\n",
       "    </tr>\n",
       "    <tr>\n",
       "      <th>inq_last_6mths</th>\n",
       "      <td>float64</td>\n",
       "      <td>0</td>\n",
       "      <td>0.0</td>\n",
       "    </tr>\n",
       "    <tr>\n",
       "      <th>open_acc</th>\n",
       "      <td>float64</td>\n",
       "      <td>0</td>\n",
       "      <td>0.0</td>\n",
       "    </tr>\n",
       "    <tr>\n",
       "      <th>pub_rec</th>\n",
       "      <td>float64</td>\n",
       "      <td>0</td>\n",
       "      <td>0.0</td>\n",
       "    </tr>\n",
       "    <tr>\n",
       "      <th>revol_bal</th>\n",
       "      <td>float64</td>\n",
       "      <td>0</td>\n",
       "      <td>0.0</td>\n",
       "    </tr>\n",
       "    <tr>\n",
       "      <th>revol_util</th>\n",
       "      <td>float64</td>\n",
       "      <td>200</td>\n",
       "      <td>0.0</td>\n",
       "    </tr>\n",
       "    <tr>\n",
       "      <th>total_acc</th>\n",
       "      <td>float64</td>\n",
       "      <td>0</td>\n",
       "      <td>0.0</td>\n",
       "    </tr>\n",
       "    <tr>\n",
       "      <th>initial_list_status</th>\n",
       "      <td>object</td>\n",
       "      <td>0</td>\n",
       "      <td>0.0</td>\n",
       "    </tr>\n",
       "    <tr>\n",
       "      <th>out_prncp</th>\n",
       "      <td>float64</td>\n",
       "      <td>0</td>\n",
       "      <td>0.0</td>\n",
       "    </tr>\n",
       "    <tr>\n",
       "      <th>out_prncp_inv</th>\n",
       "      <td>float64</td>\n",
       "      <td>0</td>\n",
       "      <td>0.0</td>\n",
       "    </tr>\n",
       "    <tr>\n",
       "      <th>total_pymnt</th>\n",
       "      <td>float64</td>\n",
       "      <td>0</td>\n",
       "      <td>0.0</td>\n",
       "    </tr>\n",
       "    <tr>\n",
       "      <th>total_pymnt_inv</th>\n",
       "      <td>float64</td>\n",
       "      <td>0</td>\n",
       "      <td>0.0</td>\n",
       "    </tr>\n",
       "    <tr>\n",
       "      <th>total_rec_prncp</th>\n",
       "      <td>float64</td>\n",
       "      <td>0</td>\n",
       "      <td>0.0</td>\n",
       "    </tr>\n",
       "    <tr>\n",
       "      <th>total_rec_int</th>\n",
       "      <td>float64</td>\n",
       "      <td>0</td>\n",
       "      <td>0.0</td>\n",
       "    </tr>\n",
       "    <tr>\n",
       "      <th>total_rec_late_fee</th>\n",
       "      <td>float64</td>\n",
       "      <td>0</td>\n",
       "      <td>0.0</td>\n",
       "    </tr>\n",
       "    <tr>\n",
       "      <th>recoveries</th>\n",
       "      <td>float64</td>\n",
       "      <td>0</td>\n",
       "      <td>0.0</td>\n",
       "    </tr>\n",
       "    <tr>\n",
       "      <th>collection_recovery_fee</th>\n",
       "      <td>float64</td>\n",
       "      <td>0</td>\n",
       "      <td>0.0</td>\n",
       "    </tr>\n",
       "    <tr>\n",
       "      <th>last_pymnt_amnt</th>\n",
       "      <td>float64</td>\n",
       "      <td>0</td>\n",
       "      <td>0.0</td>\n",
       "    </tr>\n",
       "    <tr>\n",
       "      <th>collections_12_mths_ex_med</th>\n",
       "      <td>float64</td>\n",
       "      <td>56</td>\n",
       "      <td>0.0</td>\n",
       "    </tr>\n",
       "    <tr>\n",
       "      <th>acc_now_delinq</th>\n",
       "      <td>float64</td>\n",
       "      <td>0</td>\n",
       "      <td>0.0</td>\n",
       "    </tr>\n",
       "    <tr>\n",
       "      <th>perc_funded_inv</th>\n",
       "      <td>float64</td>\n",
       "      <td>0</td>\n",
       "      <td>0.0</td>\n",
       "    </tr>\n",
       "    <tr>\n",
       "      <th>grade_num</th>\n",
       "      <td>int64</td>\n",
       "      <td>0</td>\n",
       "      <td>0.0</td>\n",
       "    </tr>\n",
       "    <tr>\n",
       "      <th>days_since_earliest_cr_line</th>\n",
       "      <td>timedelta64[ns]</td>\n",
       "      <td>0</td>\n",
       "      <td>0.0</td>\n",
       "    </tr>\n",
       "    <tr>\n",
       "      <th>days_diff_last_pymnt_pull</th>\n",
       "      <td>timedelta64[ns]</td>\n",
       "      <td>557</td>\n",
       "      <td>0.0</td>\n",
       "    </tr>\n",
       "  </tbody>\n",
       "</table>\n",
       "</div>"
      ],
      "text/plain": [
       "                                        Type  missing counts  \\\n",
       "loan_amnt                            float64               0   \n",
       "term                                  object               0   \n",
       "int_rate                             float64               0   \n",
       "installment                          float64               0   \n",
       "emp_length                            object               0   \n",
       "home_ownership                        object               0   \n",
       "annual_inc                           float64               0   \n",
       "verification_status                   object               0   \n",
       "purpose                               object               0   \n",
       "addr_state                            object               0   \n",
       "dti                                  float64               0   \n",
       "delinq_2yrs                          float64               0   \n",
       "inq_last_6mths                       float64               0   \n",
       "open_acc                             float64               0   \n",
       "pub_rec                              float64               0   \n",
       "revol_bal                            float64               0   \n",
       "revol_util                           float64             200   \n",
       "total_acc                            float64               0   \n",
       "initial_list_status                   object               0   \n",
       "out_prncp                            float64               0   \n",
       "out_prncp_inv                        float64               0   \n",
       "total_pymnt                          float64               0   \n",
       "total_pymnt_inv                      float64               0   \n",
       "total_rec_prncp                      float64               0   \n",
       "total_rec_int                        float64               0   \n",
       "total_rec_late_fee                   float64               0   \n",
       "recoveries                           float64               0   \n",
       "collection_recovery_fee              float64               0   \n",
       "last_pymnt_amnt                      float64               0   \n",
       "collections_12_mths_ex_med           float64              56   \n",
       "acc_now_delinq                       float64               0   \n",
       "perc_funded_inv                      float64               0   \n",
       "grade_num                              int64               0   \n",
       "days_since_earliest_cr_line  timedelta64[ns]               0   \n",
       "days_diff_last_pymnt_pull    timedelta64[ns]             557   \n",
       "\n",
       "                             missing percentage  \n",
       "loan_amnt                                   0.0  \n",
       "term                                        0.0  \n",
       "int_rate                                    0.0  \n",
       "installment                                 0.0  \n",
       "emp_length                                  0.0  \n",
       "home_ownership                              0.0  \n",
       "annual_inc                                  0.0  \n",
       "verification_status                         0.0  \n",
       "purpose                                     0.0  \n",
       "addr_state                                  0.0  \n",
       "dti                                         0.0  \n",
       "delinq_2yrs                                 0.0  \n",
       "inq_last_6mths                              0.0  \n",
       "open_acc                                    0.0  \n",
       "pub_rec                                     0.0  \n",
       "revol_bal                                   0.0  \n",
       "revol_util                                  0.0  \n",
       "total_acc                                   0.0  \n",
       "initial_list_status                         0.0  \n",
       "out_prncp                                   0.0  \n",
       "out_prncp_inv                               0.0  \n",
       "total_pymnt                                 0.0  \n",
       "total_pymnt_inv                             0.0  \n",
       "total_rec_prncp                             0.0  \n",
       "total_rec_int                               0.0  \n",
       "total_rec_late_fee                          0.0  \n",
       "recoveries                                  0.0  \n",
       "collection_recovery_fee                     0.0  \n",
       "last_pymnt_amnt                             0.0  \n",
       "collections_12_mths_ex_med                  0.0  \n",
       "acc_now_delinq                              0.0  \n",
       "perc_funded_inv                             0.0  \n",
       "grade_num                                   0.0  \n",
       "days_since_earliest_cr_line                 0.0  \n",
       "days_diff_last_pymnt_pull                   0.0  "
      ]
     },
     "execution_count": 154,
     "metadata": {},
     "output_type": "execute_result"
    }
   ],
   "source": [
    "# NA count table\n",
    "print loan.shape\n",
    "NAs = pd.concat([loan.dtypes, loan.isnull().sum(), np.round(loan.isnull().sum()/len(loan), 2)], axis=1, keys=['Type', 'missing counts','missing percentage'])\n",
    "NAs"
   ]
  },
  {
   "cell_type": "code",
   "execution_count": 197,
   "metadata": {
    "scrolled": false
   },
   "outputs": [
    {
     "data": {
      "image/png": "[encoded data removed]",
      "text/plain": [
       "<matplotlib.figure.Figure at 0x11d4bdd10>"
      ]
     },
     "metadata": {},
     "output_type": "display_data"
    }
   ],
   "source": [
    "mn.matrix(loan[['mths_since_last_delinq','mths_since_last_major_derog','','tot_cur_bal','tot_coll_amt']])"
   ]
  },
  {
   "cell_type": "code",
   "execution_count": null,
   "metadata": {
    "collapsed": true
   },
   "outputs": [],
   "source": []
  },
  {
   "cell_type": "code",
   "execution_count": null,
   "metadata": {
    "collapsed": true
   },
   "outputs": [],
   "source": []
  },
  {
   "cell_type": "code",
   "execution_count": null,
   "metadata": {
    "collapsed": true
   },
   "outputs": [],
   "source": []
  },
  {
   "cell_type": "code",
   "execution_count": null,
   "metadata": {
    "collapsed": true
   },
   "outputs": [],
   "source": []
  },
  {
   "cell_type": "code",
   "execution_count": null,
   "metadata": {
    "collapsed": true
   },
   "outputs": [],
   "source": []
  },
  {
   "cell_type": "markdown",
   "metadata": {
    "collapsed": true
   },
   "source": [
    "## Performance Metric\n",
    "\n",
    "We use AUC (Area-under-the-curve) as an optimization metric. This is a popular metric within credit modeling."
   ]
  },
  {
   "cell_type": "code",
   "execution_count": 3,
   "metadata": {
    "collapsed": true
   },
   "outputs": [],
   "source": [
    "def get_auc(y_true, y_pred):\n",
    "    # y: an array of labels marking the actualy result as default (1) or non-default (0) \n",
    "    # y_pred: a probability that a row has defaulted\n",
    "    # fpr: false-positive rate\n",
    "    # tpr: true-positive rate\n",
    "    \n",
    "    fpr, tpr, thresholds = roc_curve(y_true, y_pred)\n",
    "    auc_score = auc(fpr, tpr)\n",
    "    return auc_score"
   ]
  }
 ],
 "metadata": {
  "kernelspec": {
   "display_name": "Python [default]",
   "language": "python",
   "name": "python2"
  },
  "language_info": {
   "codemirror_mode": {
    "name": "ipython",
    "version": 2
   },
   "file_extension": ".py",
   "mimetype": "text/x-python",
   "name": "python",
   "nbconvert_exporter": "python",
   "pygments_lexer": "ipython2",
   "version": "2.7.13"
  }
 },
 "nbformat": 4,
 "nbformat_minor": 2
}
